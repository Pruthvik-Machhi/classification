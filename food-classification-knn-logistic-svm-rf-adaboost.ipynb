{
 "cells": [
  {
   "cell_type": "code",
   "execution_count": 1,
   "id": "1bf139b8",
   "metadata": {
    "execution": {
     "iopub.execute_input": "2024-05-14T10:55:37.132827Z",
     "iopub.status.busy": "2024-05-14T10:55:37.131832Z",
     "iopub.status.idle": "2024-05-14T10:55:38.136419Z",
     "shell.execute_reply": "2024-05-14T10:55:38.134563Z"
    },
    "papermill": {
     "duration": 1.024404,
     "end_time": "2024-05-14T10:55:38.139571",
     "exception": false,
     "start_time": "2024-05-14T10:55:37.115167",
     "status": "completed"
    },
    "tags": []
   },
   "outputs": [
    {
     "name": "stdout",
     "output_type": "stream",
     "text": [
      "/kaggle/input/online-food-dataset/onlinefoods.csv\n"
     ]
    }
   ],
   "source": [
    "# This Python 3 environment comes with many helpful analytics libraries installed\n",
    "# It is defined by the kaggle/python Docker image: https://github.com/kaggle/docker-python\n",
    "# For example, here's several helpful packages to load\n",
    "\n",
    "import numpy as np # linear algebra\n",
    "import pandas as pd # data processing, CSV file I/O (e.g. pd.read_csv)\n",
    "\n",
    "# Input data files are available in the read-only \"../input/\" directory\n",
    "# For example, running this (by clicking run or pressing Shift+Enter) will list all files under the input directory\n",
    "\n",
    "import os\n",
    "for dirname, _, filenames in os.walk('/kaggle/input'):\n",
    "    for filename in filenames:\n",
    "        print(os.path.join(dirname, filename))\n",
    "\n",
    "# You can write up to 20GB to the current directory (/kaggle/working/) that gets preserved as output when you create a version using \"Save & Run All\" \n",
    "# You can also write temporary files to /kaggle/temp/, but they won't be saved outside of the current session"
   ]
  },
  {
   "cell_type": "code",
   "execution_count": 2,
   "id": "8de5b4a3",
   "metadata": {
    "execution": {
     "iopub.execute_input": "2024-05-14T10:55:38.168920Z",
     "iopub.status.busy": "2024-05-14T10:55:38.167900Z",
     "iopub.status.idle": "2024-05-14T10:55:38.193351Z",
     "shell.execute_reply": "2024-05-14T10:55:38.192228Z"
    },
    "papermill": {
     "duration": 0.043753,
     "end_time": "2024-05-14T10:55:38.196197",
     "exception": false,
     "start_time": "2024-05-14T10:55:38.152444",
     "status": "completed"
    },
    "tags": []
   },
   "outputs": [],
   "source": [
    "import pandas as pd \n",
    "df=pd.read_csv(\"/kaggle/input/online-food-dataset/onlinefoods.csv\")"
   ]
  },
  {
   "cell_type": "code",
   "execution_count": 3,
   "id": "6b977d33",
   "metadata": {
    "execution": {
     "iopub.execute_input": "2024-05-14T10:55:38.226174Z",
     "iopub.status.busy": "2024-05-14T10:55:38.225324Z",
     "iopub.status.idle": "2024-05-14T10:55:38.261791Z",
     "shell.execute_reply": "2024-05-14T10:55:38.260576Z"
    },
    "papermill": {
     "duration": 0.054724,
     "end_time": "2024-05-14T10:55:38.264296",
     "exception": false,
     "start_time": "2024-05-14T10:55:38.209572",
     "status": "completed"
    },
    "tags": []
   },
   "outputs": [
    {
     "data": {
      "text/html": [
       "<div>\n",
       "<style scoped>\n",
       "    .dataframe tbody tr th:only-of-type {\n",
       "        vertical-align: middle;\n",
       "    }\n",
       "\n",
       "    .dataframe tbody tr th {\n",
       "        vertical-align: top;\n",
       "    }\n",
       "\n",
       "    .dataframe thead th {\n",
       "        text-align: right;\n",
       "    }\n",
       "</style>\n",
       "<table border=\"1\" class=\"dataframe\">\n",
       "  <thead>\n",
       "    <tr style=\"text-align: right;\">\n",
       "      <th></th>\n",
       "      <th>Age</th>\n",
       "      <th>Gender</th>\n",
       "      <th>Marital Status</th>\n",
       "      <th>Occupation</th>\n",
       "      <th>Monthly Income</th>\n",
       "      <th>Educational Qualifications</th>\n",
       "      <th>Family size</th>\n",
       "      <th>latitude</th>\n",
       "      <th>longitude</th>\n",
       "      <th>Pin code</th>\n",
       "      <th>Output</th>\n",
       "      <th>Feedback</th>\n",
       "      <th>Unnamed: 12</th>\n",
       "    </tr>\n",
       "  </thead>\n",
       "  <tbody>\n",
       "    <tr>\n",
       "      <th>0</th>\n",
       "      <td>20</td>\n",
       "      <td>Female</td>\n",
       "      <td>Single</td>\n",
       "      <td>Student</td>\n",
       "      <td>No Income</td>\n",
       "      <td>Post Graduate</td>\n",
       "      <td>4</td>\n",
       "      <td>12.9766</td>\n",
       "      <td>77.5993</td>\n",
       "      <td>560001</td>\n",
       "      <td>Yes</td>\n",
       "      <td>Positive</td>\n",
       "      <td>Yes</td>\n",
       "    </tr>\n",
       "    <tr>\n",
       "      <th>1</th>\n",
       "      <td>24</td>\n",
       "      <td>Female</td>\n",
       "      <td>Single</td>\n",
       "      <td>Student</td>\n",
       "      <td>Below Rs.10000</td>\n",
       "      <td>Graduate</td>\n",
       "      <td>3</td>\n",
       "      <td>12.9770</td>\n",
       "      <td>77.5773</td>\n",
       "      <td>560009</td>\n",
       "      <td>Yes</td>\n",
       "      <td>Positive</td>\n",
       "      <td>Yes</td>\n",
       "    </tr>\n",
       "    <tr>\n",
       "      <th>2</th>\n",
       "      <td>22</td>\n",
       "      <td>Male</td>\n",
       "      <td>Single</td>\n",
       "      <td>Student</td>\n",
       "      <td>Below Rs.10000</td>\n",
       "      <td>Post Graduate</td>\n",
       "      <td>3</td>\n",
       "      <td>12.9551</td>\n",
       "      <td>77.6593</td>\n",
       "      <td>560017</td>\n",
       "      <td>Yes</td>\n",
       "      <td>Negative</td>\n",
       "      <td>Yes</td>\n",
       "    </tr>\n",
       "    <tr>\n",
       "      <th>3</th>\n",
       "      <td>22</td>\n",
       "      <td>Female</td>\n",
       "      <td>Single</td>\n",
       "      <td>Student</td>\n",
       "      <td>No Income</td>\n",
       "      <td>Graduate</td>\n",
       "      <td>6</td>\n",
       "      <td>12.9473</td>\n",
       "      <td>77.5616</td>\n",
       "      <td>560019</td>\n",
       "      <td>Yes</td>\n",
       "      <td>Positive</td>\n",
       "      <td>Yes</td>\n",
       "    </tr>\n",
       "    <tr>\n",
       "      <th>4</th>\n",
       "      <td>22</td>\n",
       "      <td>Male</td>\n",
       "      <td>Single</td>\n",
       "      <td>Student</td>\n",
       "      <td>Below Rs.10000</td>\n",
       "      <td>Post Graduate</td>\n",
       "      <td>4</td>\n",
       "      <td>12.9850</td>\n",
       "      <td>77.5533</td>\n",
       "      <td>560010</td>\n",
       "      <td>Yes</td>\n",
       "      <td>Positive</td>\n",
       "      <td>Yes</td>\n",
       "    </tr>\n",
       "    <tr>\n",
       "      <th>...</th>\n",
       "      <td>...</td>\n",
       "      <td>...</td>\n",
       "      <td>...</td>\n",
       "      <td>...</td>\n",
       "      <td>...</td>\n",
       "      <td>...</td>\n",
       "      <td>...</td>\n",
       "      <td>...</td>\n",
       "      <td>...</td>\n",
       "      <td>...</td>\n",
       "      <td>...</td>\n",
       "      <td>...</td>\n",
       "      <td>...</td>\n",
       "    </tr>\n",
       "    <tr>\n",
       "      <th>383</th>\n",
       "      <td>23</td>\n",
       "      <td>Female</td>\n",
       "      <td>Single</td>\n",
       "      <td>Student</td>\n",
       "      <td>No Income</td>\n",
       "      <td>Post Graduate</td>\n",
       "      <td>2</td>\n",
       "      <td>12.9766</td>\n",
       "      <td>77.5993</td>\n",
       "      <td>560001</td>\n",
       "      <td>Yes</td>\n",
       "      <td>Positive</td>\n",
       "      <td>Yes</td>\n",
       "    </tr>\n",
       "    <tr>\n",
       "      <th>384</th>\n",
       "      <td>23</td>\n",
       "      <td>Female</td>\n",
       "      <td>Single</td>\n",
       "      <td>Student</td>\n",
       "      <td>No Income</td>\n",
       "      <td>Post Graduate</td>\n",
       "      <td>4</td>\n",
       "      <td>12.9854</td>\n",
       "      <td>77.7081</td>\n",
       "      <td>560048</td>\n",
       "      <td>Yes</td>\n",
       "      <td>Positive</td>\n",
       "      <td>Yes</td>\n",
       "    </tr>\n",
       "    <tr>\n",
       "      <th>385</th>\n",
       "      <td>22</td>\n",
       "      <td>Female</td>\n",
       "      <td>Single</td>\n",
       "      <td>Student</td>\n",
       "      <td>No Income</td>\n",
       "      <td>Post Graduate</td>\n",
       "      <td>5</td>\n",
       "      <td>12.9850</td>\n",
       "      <td>77.5533</td>\n",
       "      <td>560010</td>\n",
       "      <td>Yes</td>\n",
       "      <td>Positive</td>\n",
       "      <td>Yes</td>\n",
       "    </tr>\n",
       "    <tr>\n",
       "      <th>386</th>\n",
       "      <td>23</td>\n",
       "      <td>Male</td>\n",
       "      <td>Single</td>\n",
       "      <td>Student</td>\n",
       "      <td>Below Rs.10000</td>\n",
       "      <td>Post Graduate</td>\n",
       "      <td>2</td>\n",
       "      <td>12.9770</td>\n",
       "      <td>77.5773</td>\n",
       "      <td>560009</td>\n",
       "      <td>Yes</td>\n",
       "      <td>Positive</td>\n",
       "      <td>Yes</td>\n",
       "    </tr>\n",
       "    <tr>\n",
       "      <th>387</th>\n",
       "      <td>23</td>\n",
       "      <td>Male</td>\n",
       "      <td>Single</td>\n",
       "      <td>Student</td>\n",
       "      <td>No Income</td>\n",
       "      <td>Post Graduate</td>\n",
       "      <td>5</td>\n",
       "      <td>12.8988</td>\n",
       "      <td>77.5764</td>\n",
       "      <td>560078</td>\n",
       "      <td>Yes</td>\n",
       "      <td>Positive</td>\n",
       "      <td>Yes</td>\n",
       "    </tr>\n",
       "  </tbody>\n",
       "</table>\n",
       "<p>388 rows × 13 columns</p>\n",
       "</div>"
      ],
      "text/plain": [
       "     Age  Gender Marital Status Occupation  Monthly Income  \\\n",
       "0     20  Female         Single    Student       No Income   \n",
       "1     24  Female         Single    Student  Below Rs.10000   \n",
       "2     22    Male         Single    Student  Below Rs.10000   \n",
       "3     22  Female         Single    Student       No Income   \n",
       "4     22    Male         Single    Student  Below Rs.10000   \n",
       "..   ...     ...            ...        ...             ...   \n",
       "383   23  Female         Single    Student       No Income   \n",
       "384   23  Female         Single    Student       No Income   \n",
       "385   22  Female         Single    Student       No Income   \n",
       "386   23    Male         Single    Student  Below Rs.10000   \n",
       "387   23    Male         Single    Student       No Income   \n",
       "\n",
       "    Educational Qualifications  Family size  latitude  longitude  Pin code  \\\n",
       "0                Post Graduate            4   12.9766    77.5993    560001   \n",
       "1                     Graduate            3   12.9770    77.5773    560009   \n",
       "2                Post Graduate            3   12.9551    77.6593    560017   \n",
       "3                     Graduate            6   12.9473    77.5616    560019   \n",
       "4                Post Graduate            4   12.9850    77.5533    560010   \n",
       "..                         ...          ...       ...        ...       ...   \n",
       "383              Post Graduate            2   12.9766    77.5993    560001   \n",
       "384              Post Graduate            4   12.9854    77.7081    560048   \n",
       "385              Post Graduate            5   12.9850    77.5533    560010   \n",
       "386              Post Graduate            2   12.9770    77.5773    560009   \n",
       "387              Post Graduate            5   12.8988    77.5764    560078   \n",
       "\n",
       "    Output   Feedback Unnamed: 12  \n",
       "0      Yes   Positive         Yes  \n",
       "1      Yes   Positive         Yes  \n",
       "2      Yes  Negative          Yes  \n",
       "3      Yes   Positive         Yes  \n",
       "4      Yes   Positive         Yes  \n",
       "..     ...        ...         ...  \n",
       "383    Yes   Positive         Yes  \n",
       "384    Yes   Positive         Yes  \n",
       "385    Yes   Positive         Yes  \n",
       "386    Yes   Positive         Yes  \n",
       "387    Yes   Positive         Yes  \n",
       "\n",
       "[388 rows x 13 columns]"
      ]
     },
     "execution_count": 3,
     "metadata": {},
     "output_type": "execute_result"
    }
   ],
   "source": [
    "df"
   ]
  },
  {
   "cell_type": "code",
   "execution_count": 4,
   "id": "f8d77f41",
   "metadata": {
    "execution": {
     "iopub.execute_input": "2024-05-14T10:55:38.292266Z",
     "iopub.status.busy": "2024-05-14T10:55:38.291778Z",
     "iopub.status.idle": "2024-05-14T10:55:38.315497Z",
     "shell.execute_reply": "2024-05-14T10:55:38.314129Z"
    },
    "papermill": {
     "duration": 0.041046,
     "end_time": "2024-05-14T10:55:38.318383",
     "exception": false,
     "start_time": "2024-05-14T10:55:38.277337",
     "status": "completed"
    },
    "tags": []
   },
   "outputs": [
    {
     "name": "stdout",
     "output_type": "stream",
     "text": [
      "<class 'pandas.core.frame.DataFrame'>\n",
      "RangeIndex: 388 entries, 0 to 387\n",
      "Data columns (total 13 columns):\n",
      " #   Column                      Non-Null Count  Dtype  \n",
      "---  ------                      --------------  -----  \n",
      " 0   Age                         388 non-null    int64  \n",
      " 1   Gender                      388 non-null    object \n",
      " 2   Marital Status              388 non-null    object \n",
      " 3   Occupation                  388 non-null    object \n",
      " 4   Monthly Income              388 non-null    object \n",
      " 5   Educational Qualifications  388 non-null    object \n",
      " 6   Family size                 388 non-null    int64  \n",
      " 7   latitude                    388 non-null    float64\n",
      " 8   longitude                   388 non-null    float64\n",
      " 9   Pin code                    388 non-null    int64  \n",
      " 10  Output                      388 non-null    object \n",
      " 11  Feedback                    388 non-null    object \n",
      " 12  Unnamed: 12                 388 non-null    object \n",
      "dtypes: float64(2), int64(3), object(8)\n",
      "memory usage: 39.5+ KB\n"
     ]
    }
   ],
   "source": [
    "df.info()"
   ]
  },
  {
   "cell_type": "code",
   "execution_count": null,
   "id": "794e98c6",
   "metadata": {
    "papermill": {
     "duration": 0.01305,
     "end_time": "2024-05-14T10:55:38.345205",
     "exception": false,
     "start_time": "2024-05-14T10:55:38.332155",
     "status": "completed"
    },
    "tags": []
   },
   "outputs": [],
   "source": []
  },
  {
   "cell_type": "code",
   "execution_count": 5,
   "id": "dbeb87c1",
   "metadata": {
    "execution": {
     "iopub.execute_input": "2024-05-14T10:55:38.376294Z",
     "iopub.status.busy": "2024-05-14T10:55:38.375824Z",
     "iopub.status.idle": "2024-05-14T10:55:38.386090Z",
     "shell.execute_reply": "2024-05-14T10:55:38.384661Z"
    },
    "papermill": {
     "duration": 0.028233,
     "end_time": "2024-05-14T10:55:38.388410",
     "exception": false,
     "start_time": "2024-05-14T10:55:38.360177",
     "status": "completed"
    },
    "tags": []
   },
   "outputs": [
    {
     "data": {
      "text/plain": [
       "0      Female\n",
       "1      Female\n",
       "2        Male\n",
       "3      Female\n",
       "4        Male\n",
       "        ...  \n",
       "383    Female\n",
       "384    Female\n",
       "385    Female\n",
       "386      Male\n",
       "387      Male\n",
       "Name: Gender, Length: 388, dtype: object"
      ]
     },
     "execution_count": 5,
     "metadata": {},
     "output_type": "execute_result"
    }
   ],
   "source": [
    "df['Gender']"
   ]
  },
  {
   "cell_type": "code",
   "execution_count": 6,
   "id": "233f9f98",
   "metadata": {
    "execution": {
     "iopub.execute_input": "2024-05-14T10:55:38.418928Z",
     "iopub.status.busy": "2024-05-14T10:55:38.418427Z",
     "iopub.status.idle": "2024-05-14T10:55:38.428390Z",
     "shell.execute_reply": "2024-05-14T10:55:38.427035Z"
    },
    "papermill": {
     "duration": 0.027416,
     "end_time": "2024-05-14T10:55:38.430851",
     "exception": false,
     "start_time": "2024-05-14T10:55:38.403435",
     "status": "completed"
    },
    "tags": []
   },
   "outputs": [
    {
     "data": {
      "text/plain": [
       "Marital Status\n",
       "Single               268\n",
       "Married              108\n",
       "Prefer not to say     12\n",
       "Name: count, dtype: int64"
      ]
     },
     "execution_count": 6,
     "metadata": {},
     "output_type": "execute_result"
    }
   ],
   "source": [
    "df['Marital Status'].value_counts()"
   ]
  },
  {
   "cell_type": "code",
   "execution_count": 7,
   "id": "602b533d",
   "metadata": {
    "execution": {
     "iopub.execute_input": "2024-05-14T10:55:38.461682Z",
     "iopub.status.busy": "2024-05-14T10:55:38.461188Z",
     "iopub.status.idle": "2024-05-14T10:55:39.749551Z",
     "shell.execute_reply": "2024-05-14T10:55:39.748358Z"
    },
    "papermill": {
     "duration": 1.308305,
     "end_time": "2024-05-14T10:55:39.752826",
     "exception": false,
     "start_time": "2024-05-14T10:55:38.444521",
     "status": "completed"
    },
    "tags": []
   },
   "outputs": [],
   "source": [
    "from sklearn.preprocessing import LabelEncoder\n",
    "label=LabelEncoder()"
   ]
  },
  {
   "cell_type": "code",
   "execution_count": 8,
   "id": "1d42956d",
   "metadata": {
    "execution": {
     "iopub.execute_input": "2024-05-14T10:55:39.783289Z",
     "iopub.status.busy": "2024-05-14T10:55:39.782445Z",
     "iopub.status.idle": "2024-05-14T10:55:39.788130Z",
     "shell.execute_reply": "2024-05-14T10:55:39.786780Z"
    },
    "papermill": {
     "duration": 0.023447,
     "end_time": "2024-05-14T10:55:39.790826",
     "exception": false,
     "start_time": "2024-05-14T10:55:39.767379",
     "status": "completed"
    },
    "tags": []
   },
   "outputs": [],
   "source": [
    "columns=df.columns"
   ]
  },
  {
   "cell_type": "code",
   "execution_count": 9,
   "id": "73f79535",
   "metadata": {
    "execution": {
     "iopub.execute_input": "2024-05-14T10:55:39.822805Z",
     "iopub.status.busy": "2024-05-14T10:55:39.821892Z",
     "iopub.status.idle": "2024-05-14T10:55:39.847056Z",
     "shell.execute_reply": "2024-05-14T10:55:39.845710Z"
    },
    "papermill": {
     "duration": 0.044515,
     "end_time": "2024-05-14T10:55:39.849884",
     "exception": false,
     "start_time": "2024-05-14T10:55:39.805369",
     "status": "completed"
    },
    "tags": []
   },
   "outputs": [
    {
     "data": {
      "text/html": [
       "<div>\n",
       "<style scoped>\n",
       "    .dataframe tbody tr th:only-of-type {\n",
       "        vertical-align: middle;\n",
       "    }\n",
       "\n",
       "    .dataframe tbody tr th {\n",
       "        vertical-align: top;\n",
       "    }\n",
       "\n",
       "    .dataframe thead th {\n",
       "        text-align: right;\n",
       "    }\n",
       "</style>\n",
       "<table border=\"1\" class=\"dataframe\">\n",
       "  <thead>\n",
       "    <tr style=\"text-align: right;\">\n",
       "      <th></th>\n",
       "      <th>Age</th>\n",
       "      <th>Gender</th>\n",
       "      <th>Marital Status</th>\n",
       "      <th>Occupation</th>\n",
       "      <th>Monthly Income</th>\n",
       "      <th>Educational Qualifications</th>\n",
       "      <th>Family size</th>\n",
       "      <th>latitude</th>\n",
       "      <th>longitude</th>\n",
       "      <th>Pin code</th>\n",
       "      <th>Output</th>\n",
       "      <th>Feedback</th>\n",
       "      <th>Unnamed: 12</th>\n",
       "    </tr>\n",
       "  </thead>\n",
       "  <tbody>\n",
       "    <tr>\n",
       "      <th>0</th>\n",
       "      <td>20</td>\n",
       "      <td>Female</td>\n",
       "      <td>Single</td>\n",
       "      <td>3</td>\n",
       "      <td>No Income</td>\n",
       "      <td>Post Graduate</td>\n",
       "      <td>4</td>\n",
       "      <td>12.9766</td>\n",
       "      <td>77.5993</td>\n",
       "      <td>560001</td>\n",
       "      <td>Yes</td>\n",
       "      <td>Positive</td>\n",
       "      <td>Yes</td>\n",
       "    </tr>\n",
       "    <tr>\n",
       "      <th>1</th>\n",
       "      <td>24</td>\n",
       "      <td>Female</td>\n",
       "      <td>Single</td>\n",
       "      <td>3</td>\n",
       "      <td>Below Rs.10000</td>\n",
       "      <td>Graduate</td>\n",
       "      <td>3</td>\n",
       "      <td>12.9770</td>\n",
       "      <td>77.5773</td>\n",
       "      <td>560009</td>\n",
       "      <td>Yes</td>\n",
       "      <td>Positive</td>\n",
       "      <td>Yes</td>\n",
       "    </tr>\n",
       "    <tr>\n",
       "      <th>2</th>\n",
       "      <td>22</td>\n",
       "      <td>Male</td>\n",
       "      <td>Single</td>\n",
       "      <td>3</td>\n",
       "      <td>Below Rs.10000</td>\n",
       "      <td>Post Graduate</td>\n",
       "      <td>3</td>\n",
       "      <td>12.9551</td>\n",
       "      <td>77.6593</td>\n",
       "      <td>560017</td>\n",
       "      <td>Yes</td>\n",
       "      <td>Negative</td>\n",
       "      <td>Yes</td>\n",
       "    </tr>\n",
       "    <tr>\n",
       "      <th>3</th>\n",
       "      <td>22</td>\n",
       "      <td>Female</td>\n",
       "      <td>Single</td>\n",
       "      <td>3</td>\n",
       "      <td>No Income</td>\n",
       "      <td>Graduate</td>\n",
       "      <td>6</td>\n",
       "      <td>12.9473</td>\n",
       "      <td>77.5616</td>\n",
       "      <td>560019</td>\n",
       "      <td>Yes</td>\n",
       "      <td>Positive</td>\n",
       "      <td>Yes</td>\n",
       "    </tr>\n",
       "    <tr>\n",
       "      <th>4</th>\n",
       "      <td>22</td>\n",
       "      <td>Male</td>\n",
       "      <td>Single</td>\n",
       "      <td>3</td>\n",
       "      <td>Below Rs.10000</td>\n",
       "      <td>Post Graduate</td>\n",
       "      <td>4</td>\n",
       "      <td>12.9850</td>\n",
       "      <td>77.5533</td>\n",
       "      <td>560010</td>\n",
       "      <td>Yes</td>\n",
       "      <td>Positive</td>\n",
       "      <td>Yes</td>\n",
       "    </tr>\n",
       "    <tr>\n",
       "      <th>...</th>\n",
       "      <td>...</td>\n",
       "      <td>...</td>\n",
       "      <td>...</td>\n",
       "      <td>...</td>\n",
       "      <td>...</td>\n",
       "      <td>...</td>\n",
       "      <td>...</td>\n",
       "      <td>...</td>\n",
       "      <td>...</td>\n",
       "      <td>...</td>\n",
       "      <td>...</td>\n",
       "      <td>...</td>\n",
       "      <td>...</td>\n",
       "    </tr>\n",
       "    <tr>\n",
       "      <th>383</th>\n",
       "      <td>23</td>\n",
       "      <td>Female</td>\n",
       "      <td>Single</td>\n",
       "      <td>3</td>\n",
       "      <td>No Income</td>\n",
       "      <td>Post Graduate</td>\n",
       "      <td>2</td>\n",
       "      <td>12.9766</td>\n",
       "      <td>77.5993</td>\n",
       "      <td>560001</td>\n",
       "      <td>Yes</td>\n",
       "      <td>Positive</td>\n",
       "      <td>Yes</td>\n",
       "    </tr>\n",
       "    <tr>\n",
       "      <th>384</th>\n",
       "      <td>23</td>\n",
       "      <td>Female</td>\n",
       "      <td>Single</td>\n",
       "      <td>3</td>\n",
       "      <td>No Income</td>\n",
       "      <td>Post Graduate</td>\n",
       "      <td>4</td>\n",
       "      <td>12.9854</td>\n",
       "      <td>77.7081</td>\n",
       "      <td>560048</td>\n",
       "      <td>Yes</td>\n",
       "      <td>Positive</td>\n",
       "      <td>Yes</td>\n",
       "    </tr>\n",
       "    <tr>\n",
       "      <th>385</th>\n",
       "      <td>22</td>\n",
       "      <td>Female</td>\n",
       "      <td>Single</td>\n",
       "      <td>3</td>\n",
       "      <td>No Income</td>\n",
       "      <td>Post Graduate</td>\n",
       "      <td>5</td>\n",
       "      <td>12.9850</td>\n",
       "      <td>77.5533</td>\n",
       "      <td>560010</td>\n",
       "      <td>Yes</td>\n",
       "      <td>Positive</td>\n",
       "      <td>Yes</td>\n",
       "    </tr>\n",
       "    <tr>\n",
       "      <th>386</th>\n",
       "      <td>23</td>\n",
       "      <td>Male</td>\n",
       "      <td>Single</td>\n",
       "      <td>3</td>\n",
       "      <td>Below Rs.10000</td>\n",
       "      <td>Post Graduate</td>\n",
       "      <td>2</td>\n",
       "      <td>12.9770</td>\n",
       "      <td>77.5773</td>\n",
       "      <td>560009</td>\n",
       "      <td>Yes</td>\n",
       "      <td>Positive</td>\n",
       "      <td>Yes</td>\n",
       "    </tr>\n",
       "    <tr>\n",
       "      <th>387</th>\n",
       "      <td>23</td>\n",
       "      <td>Male</td>\n",
       "      <td>Single</td>\n",
       "      <td>3</td>\n",
       "      <td>No Income</td>\n",
       "      <td>Post Graduate</td>\n",
       "      <td>5</td>\n",
       "      <td>12.8988</td>\n",
       "      <td>77.5764</td>\n",
       "      <td>560078</td>\n",
       "      <td>Yes</td>\n",
       "      <td>Positive</td>\n",
       "      <td>Yes</td>\n",
       "    </tr>\n",
       "  </tbody>\n",
       "</table>\n",
       "<p>388 rows × 13 columns</p>\n",
       "</div>"
      ],
      "text/plain": [
       "     Age  Gender Marital Status  Occupation  Monthly Income  \\\n",
       "0     20  Female         Single           3       No Income   \n",
       "1     24  Female         Single           3  Below Rs.10000   \n",
       "2     22    Male         Single           3  Below Rs.10000   \n",
       "3     22  Female         Single           3       No Income   \n",
       "4     22    Male         Single           3  Below Rs.10000   \n",
       "..   ...     ...            ...         ...             ...   \n",
       "383   23  Female         Single           3       No Income   \n",
       "384   23  Female         Single           3       No Income   \n",
       "385   22  Female         Single           3       No Income   \n",
       "386   23    Male         Single           3  Below Rs.10000   \n",
       "387   23    Male         Single           3       No Income   \n",
       "\n",
       "    Educational Qualifications  Family size  latitude  longitude  Pin code  \\\n",
       "0                Post Graduate            4   12.9766    77.5993    560001   \n",
       "1                     Graduate            3   12.9770    77.5773    560009   \n",
       "2                Post Graduate            3   12.9551    77.6593    560017   \n",
       "3                     Graduate            6   12.9473    77.5616    560019   \n",
       "4                Post Graduate            4   12.9850    77.5533    560010   \n",
       "..                         ...          ...       ...        ...       ...   \n",
       "383              Post Graduate            2   12.9766    77.5993    560001   \n",
       "384              Post Graduate            4   12.9854    77.7081    560048   \n",
       "385              Post Graduate            5   12.9850    77.5533    560010   \n",
       "386              Post Graduate            2   12.9770    77.5773    560009   \n",
       "387              Post Graduate            5   12.8988    77.5764    560078   \n",
       "\n",
       "    Output   Feedback Unnamed: 12  \n",
       "0      Yes   Positive         Yes  \n",
       "1      Yes   Positive         Yes  \n",
       "2      Yes  Negative          Yes  \n",
       "3      Yes   Positive         Yes  \n",
       "4      Yes   Positive         Yes  \n",
       "..     ...        ...         ...  \n",
       "383    Yes   Positive         Yes  \n",
       "384    Yes   Positive         Yes  \n",
       "385    Yes   Positive         Yes  \n",
       "386    Yes   Positive         Yes  \n",
       "387    Yes   Positive         Yes  \n",
       "\n",
       "[388 rows x 13 columns]"
      ]
     },
     "execution_count": 9,
     "metadata": {},
     "output_type": "execute_result"
    }
   ],
   "source": [
    "\n",
    "df['Occupation']=label.fit_transform(df['Occupation'])\n",
    "df"
   ]
  },
  {
   "cell_type": "code",
   "execution_count": 10,
   "id": "ff6b841b",
   "metadata": {
    "execution": {
     "iopub.execute_input": "2024-05-14T10:55:39.882883Z",
     "iopub.status.busy": "2024-05-14T10:55:39.881513Z",
     "iopub.status.idle": "2024-05-14T10:55:39.923595Z",
     "shell.execute_reply": "2024-05-14T10:55:39.922355Z"
    },
    "papermill": {
     "duration": 0.061543,
     "end_time": "2024-05-14T10:55:39.926955",
     "exception": false,
     "start_time": "2024-05-14T10:55:39.865412",
     "status": "completed"
    },
    "tags": []
   },
   "outputs": [
    {
     "data": {
      "text/html": [
       "<div>\n",
       "<style scoped>\n",
       "    .dataframe tbody tr th:only-of-type {\n",
       "        vertical-align: middle;\n",
       "    }\n",
       "\n",
       "    .dataframe tbody tr th {\n",
       "        vertical-align: top;\n",
       "    }\n",
       "\n",
       "    .dataframe thead th {\n",
       "        text-align: right;\n",
       "    }\n",
       "</style>\n",
       "<table border=\"1\" class=\"dataframe\">\n",
       "  <thead>\n",
       "    <tr style=\"text-align: right;\">\n",
       "      <th></th>\n",
       "      <th>Age</th>\n",
       "      <th>Occupation</th>\n",
       "      <th>Family size</th>\n",
       "      <th>latitude</th>\n",
       "      <th>longitude</th>\n",
       "      <th>Pin code</th>\n",
       "      <th>Gender_Female</th>\n",
       "      <th>Gender_Male</th>\n",
       "      <th>Marital Status_Married</th>\n",
       "      <th>Marital Status_Prefer not to say</th>\n",
       "      <th>...</th>\n",
       "      <th>Educational Qualifications_Ph.D</th>\n",
       "      <th>Educational Qualifications_Post Graduate</th>\n",
       "      <th>Educational Qualifications_School</th>\n",
       "      <th>Educational Qualifications_Uneducated</th>\n",
       "      <th>Output_No</th>\n",
       "      <th>Output_Yes</th>\n",
       "      <th>Feedback_Negative</th>\n",
       "      <th>Feedback_Positive</th>\n",
       "      <th>Unnamed: 12_No</th>\n",
       "      <th>Unnamed: 12_Yes</th>\n",
       "    </tr>\n",
       "  </thead>\n",
       "  <tbody>\n",
       "    <tr>\n",
       "      <th>0</th>\n",
       "      <td>20</td>\n",
       "      <td>3</td>\n",
       "      <td>4</td>\n",
       "      <td>12.9766</td>\n",
       "      <td>77.5993</td>\n",
       "      <td>560001</td>\n",
       "      <td>True</td>\n",
       "      <td>False</td>\n",
       "      <td>False</td>\n",
       "      <td>False</td>\n",
       "      <td>...</td>\n",
       "      <td>False</td>\n",
       "      <td>True</td>\n",
       "      <td>False</td>\n",
       "      <td>False</td>\n",
       "      <td>False</td>\n",
       "      <td>True</td>\n",
       "      <td>False</td>\n",
       "      <td>True</td>\n",
       "      <td>False</td>\n",
       "      <td>True</td>\n",
       "    </tr>\n",
       "    <tr>\n",
       "      <th>1</th>\n",
       "      <td>24</td>\n",
       "      <td>3</td>\n",
       "      <td>3</td>\n",
       "      <td>12.9770</td>\n",
       "      <td>77.5773</td>\n",
       "      <td>560009</td>\n",
       "      <td>True</td>\n",
       "      <td>False</td>\n",
       "      <td>False</td>\n",
       "      <td>False</td>\n",
       "      <td>...</td>\n",
       "      <td>False</td>\n",
       "      <td>False</td>\n",
       "      <td>False</td>\n",
       "      <td>False</td>\n",
       "      <td>False</td>\n",
       "      <td>True</td>\n",
       "      <td>False</td>\n",
       "      <td>True</td>\n",
       "      <td>False</td>\n",
       "      <td>True</td>\n",
       "    </tr>\n",
       "    <tr>\n",
       "      <th>2</th>\n",
       "      <td>22</td>\n",
       "      <td>3</td>\n",
       "      <td>3</td>\n",
       "      <td>12.9551</td>\n",
       "      <td>77.6593</td>\n",
       "      <td>560017</td>\n",
       "      <td>False</td>\n",
       "      <td>True</td>\n",
       "      <td>False</td>\n",
       "      <td>False</td>\n",
       "      <td>...</td>\n",
       "      <td>False</td>\n",
       "      <td>True</td>\n",
       "      <td>False</td>\n",
       "      <td>False</td>\n",
       "      <td>False</td>\n",
       "      <td>True</td>\n",
       "      <td>True</td>\n",
       "      <td>False</td>\n",
       "      <td>False</td>\n",
       "      <td>True</td>\n",
       "    </tr>\n",
       "    <tr>\n",
       "      <th>3</th>\n",
       "      <td>22</td>\n",
       "      <td>3</td>\n",
       "      <td>6</td>\n",
       "      <td>12.9473</td>\n",
       "      <td>77.5616</td>\n",
       "      <td>560019</td>\n",
       "      <td>True</td>\n",
       "      <td>False</td>\n",
       "      <td>False</td>\n",
       "      <td>False</td>\n",
       "      <td>...</td>\n",
       "      <td>False</td>\n",
       "      <td>False</td>\n",
       "      <td>False</td>\n",
       "      <td>False</td>\n",
       "      <td>False</td>\n",
       "      <td>True</td>\n",
       "      <td>False</td>\n",
       "      <td>True</td>\n",
       "      <td>False</td>\n",
       "      <td>True</td>\n",
       "    </tr>\n",
       "    <tr>\n",
       "      <th>4</th>\n",
       "      <td>22</td>\n",
       "      <td>3</td>\n",
       "      <td>4</td>\n",
       "      <td>12.9850</td>\n",
       "      <td>77.5533</td>\n",
       "      <td>560010</td>\n",
       "      <td>False</td>\n",
       "      <td>True</td>\n",
       "      <td>False</td>\n",
       "      <td>False</td>\n",
       "      <td>...</td>\n",
       "      <td>False</td>\n",
       "      <td>True</td>\n",
       "      <td>False</td>\n",
       "      <td>False</td>\n",
       "      <td>False</td>\n",
       "      <td>True</td>\n",
       "      <td>False</td>\n",
       "      <td>True</td>\n",
       "      <td>False</td>\n",
       "      <td>True</td>\n",
       "    </tr>\n",
       "    <tr>\n",
       "      <th>...</th>\n",
       "      <td>...</td>\n",
       "      <td>...</td>\n",
       "      <td>...</td>\n",
       "      <td>...</td>\n",
       "      <td>...</td>\n",
       "      <td>...</td>\n",
       "      <td>...</td>\n",
       "      <td>...</td>\n",
       "      <td>...</td>\n",
       "      <td>...</td>\n",
       "      <td>...</td>\n",
       "      <td>...</td>\n",
       "      <td>...</td>\n",
       "      <td>...</td>\n",
       "      <td>...</td>\n",
       "      <td>...</td>\n",
       "      <td>...</td>\n",
       "      <td>...</td>\n",
       "      <td>...</td>\n",
       "      <td>...</td>\n",
       "      <td>...</td>\n",
       "    </tr>\n",
       "    <tr>\n",
       "      <th>383</th>\n",
       "      <td>23</td>\n",
       "      <td>3</td>\n",
       "      <td>2</td>\n",
       "      <td>12.9766</td>\n",
       "      <td>77.5993</td>\n",
       "      <td>560001</td>\n",
       "      <td>True</td>\n",
       "      <td>False</td>\n",
       "      <td>False</td>\n",
       "      <td>False</td>\n",
       "      <td>...</td>\n",
       "      <td>False</td>\n",
       "      <td>True</td>\n",
       "      <td>False</td>\n",
       "      <td>False</td>\n",
       "      <td>False</td>\n",
       "      <td>True</td>\n",
       "      <td>False</td>\n",
       "      <td>True</td>\n",
       "      <td>False</td>\n",
       "      <td>True</td>\n",
       "    </tr>\n",
       "    <tr>\n",
       "      <th>384</th>\n",
       "      <td>23</td>\n",
       "      <td>3</td>\n",
       "      <td>4</td>\n",
       "      <td>12.9854</td>\n",
       "      <td>77.7081</td>\n",
       "      <td>560048</td>\n",
       "      <td>True</td>\n",
       "      <td>False</td>\n",
       "      <td>False</td>\n",
       "      <td>False</td>\n",
       "      <td>...</td>\n",
       "      <td>False</td>\n",
       "      <td>True</td>\n",
       "      <td>False</td>\n",
       "      <td>False</td>\n",
       "      <td>False</td>\n",
       "      <td>True</td>\n",
       "      <td>False</td>\n",
       "      <td>True</td>\n",
       "      <td>False</td>\n",
       "      <td>True</td>\n",
       "    </tr>\n",
       "    <tr>\n",
       "      <th>385</th>\n",
       "      <td>22</td>\n",
       "      <td>3</td>\n",
       "      <td>5</td>\n",
       "      <td>12.9850</td>\n",
       "      <td>77.5533</td>\n",
       "      <td>560010</td>\n",
       "      <td>True</td>\n",
       "      <td>False</td>\n",
       "      <td>False</td>\n",
       "      <td>False</td>\n",
       "      <td>...</td>\n",
       "      <td>False</td>\n",
       "      <td>True</td>\n",
       "      <td>False</td>\n",
       "      <td>False</td>\n",
       "      <td>False</td>\n",
       "      <td>True</td>\n",
       "      <td>False</td>\n",
       "      <td>True</td>\n",
       "      <td>False</td>\n",
       "      <td>True</td>\n",
       "    </tr>\n",
       "    <tr>\n",
       "      <th>386</th>\n",
       "      <td>23</td>\n",
       "      <td>3</td>\n",
       "      <td>2</td>\n",
       "      <td>12.9770</td>\n",
       "      <td>77.5773</td>\n",
       "      <td>560009</td>\n",
       "      <td>False</td>\n",
       "      <td>True</td>\n",
       "      <td>False</td>\n",
       "      <td>False</td>\n",
       "      <td>...</td>\n",
       "      <td>False</td>\n",
       "      <td>True</td>\n",
       "      <td>False</td>\n",
       "      <td>False</td>\n",
       "      <td>False</td>\n",
       "      <td>True</td>\n",
       "      <td>False</td>\n",
       "      <td>True</td>\n",
       "      <td>False</td>\n",
       "      <td>True</td>\n",
       "    </tr>\n",
       "    <tr>\n",
       "      <th>387</th>\n",
       "      <td>23</td>\n",
       "      <td>3</td>\n",
       "      <td>5</td>\n",
       "      <td>12.8988</td>\n",
       "      <td>77.5764</td>\n",
       "      <td>560078</td>\n",
       "      <td>False</td>\n",
       "      <td>True</td>\n",
       "      <td>False</td>\n",
       "      <td>False</td>\n",
       "      <td>...</td>\n",
       "      <td>False</td>\n",
       "      <td>True</td>\n",
       "      <td>False</td>\n",
       "      <td>False</td>\n",
       "      <td>False</td>\n",
       "      <td>True</td>\n",
       "      <td>False</td>\n",
       "      <td>True</td>\n",
       "      <td>False</td>\n",
       "      <td>True</td>\n",
       "    </tr>\n",
       "  </tbody>\n",
       "</table>\n",
       "<p>388 rows × 27 columns</p>\n",
       "</div>"
      ],
      "text/plain": [
       "     Age  Occupation  Family size  latitude  longitude  Pin code  \\\n",
       "0     20           3            4   12.9766    77.5993    560001   \n",
       "1     24           3            3   12.9770    77.5773    560009   \n",
       "2     22           3            3   12.9551    77.6593    560017   \n",
       "3     22           3            6   12.9473    77.5616    560019   \n",
       "4     22           3            4   12.9850    77.5533    560010   \n",
       "..   ...         ...          ...       ...        ...       ...   \n",
       "383   23           3            2   12.9766    77.5993    560001   \n",
       "384   23           3            4   12.9854    77.7081    560048   \n",
       "385   22           3            5   12.9850    77.5533    560010   \n",
       "386   23           3            2   12.9770    77.5773    560009   \n",
       "387   23           3            5   12.8988    77.5764    560078   \n",
       "\n",
       "     Gender_Female  Gender_Male  Marital Status_Married  \\\n",
       "0             True        False                   False   \n",
       "1             True        False                   False   \n",
       "2            False         True                   False   \n",
       "3             True        False                   False   \n",
       "4            False         True                   False   \n",
       "..             ...          ...                     ...   \n",
       "383           True        False                   False   \n",
       "384           True        False                   False   \n",
       "385           True        False                   False   \n",
       "386          False         True                   False   \n",
       "387          False         True                   False   \n",
       "\n",
       "     Marital Status_Prefer not to say  ...  Educational Qualifications_Ph.D  \\\n",
       "0                               False  ...                            False   \n",
       "1                               False  ...                            False   \n",
       "2                               False  ...                            False   \n",
       "3                               False  ...                            False   \n",
       "4                               False  ...                            False   \n",
       "..                                ...  ...                              ...   \n",
       "383                             False  ...                            False   \n",
       "384                             False  ...                            False   \n",
       "385                             False  ...                            False   \n",
       "386                             False  ...                            False   \n",
       "387                             False  ...                            False   \n",
       "\n",
       "     Educational Qualifications_Post Graduate  \\\n",
       "0                                        True   \n",
       "1                                       False   \n",
       "2                                        True   \n",
       "3                                       False   \n",
       "4                                        True   \n",
       "..                                        ...   \n",
       "383                                      True   \n",
       "384                                      True   \n",
       "385                                      True   \n",
       "386                                      True   \n",
       "387                                      True   \n",
       "\n",
       "     Educational Qualifications_School  Educational Qualifications_Uneducated  \\\n",
       "0                                False                                  False   \n",
       "1                                False                                  False   \n",
       "2                                False                                  False   \n",
       "3                                False                                  False   \n",
       "4                                False                                  False   \n",
       "..                                 ...                                    ...   \n",
       "383                              False                                  False   \n",
       "384                              False                                  False   \n",
       "385                              False                                  False   \n",
       "386                              False                                  False   \n",
       "387                              False                                  False   \n",
       "\n",
       "     Output_No  Output_Yes  Feedback_Negative   Feedback_Positive  \\\n",
       "0        False        True               False               True   \n",
       "1        False        True               False               True   \n",
       "2        False        True                True              False   \n",
       "3        False        True               False               True   \n",
       "4        False        True               False               True   \n",
       "..         ...         ...                 ...                ...   \n",
       "383      False        True               False               True   \n",
       "384      False        True               False               True   \n",
       "385      False        True               False               True   \n",
       "386      False        True               False               True   \n",
       "387      False        True               False               True   \n",
       "\n",
       "     Unnamed: 12_No  Unnamed: 12_Yes  \n",
       "0             False             True  \n",
       "1             False             True  \n",
       "2             False             True  \n",
       "3             False             True  \n",
       "4             False             True  \n",
       "..              ...              ...  \n",
       "383           False             True  \n",
       "384           False             True  \n",
       "385           False             True  \n",
       "386           False             True  \n",
       "387           False             True  \n",
       "\n",
       "[388 rows x 27 columns]"
      ]
     },
     "execution_count": 10,
     "metadata": {},
     "output_type": "execute_result"
    }
   ],
   "source": [
    "categorical_cols = df.select_dtypes(include=['object']).columns.tolist()\n",
    "df = pd.get_dummies(df, columns=categorical_cols)\n",
    "df\n"
   ]
  },
  {
   "cell_type": "code",
   "execution_count": 11,
   "id": "717bb9b2",
   "metadata": {
    "execution": {
     "iopub.execute_input": "2024-05-14T10:55:39.960899Z",
     "iopub.status.busy": "2024-05-14T10:55:39.960424Z",
     "iopub.status.idle": "2024-05-14T10:55:41.106945Z",
     "shell.execute_reply": "2024-05-14T10:55:41.105613Z"
    },
    "papermill": {
     "duration": 1.165038,
     "end_time": "2024-05-14T10:55:41.109202",
     "exception": false,
     "start_time": "2024-05-14T10:55:39.944164",
     "status": "completed"
    },
    "tags": []
   },
   "outputs": [
    {
     "data": {
      "text/plain": [
       "<Axes: >"
      ]
     },
     "execution_count": 11,
     "metadata": {},
     "output_type": "execute_result"
    },
    {
     "data": {
      "image/png": "[encoded data removed]",
      "text/plain": [
       "<Figure size 640x480 with 1 Axes>"
      ]
     },
     "metadata": {},
     "output_type": "display_data"
    }
   ],
   "source": [
    "import seaborn as sns \n",
    "sns.boxplot(df)"
   ]
  },
  {
   "cell_type": "code",
   "execution_count": 12,
   "id": "a939c94e",
   "metadata": {
    "execution": {
     "iopub.execute_input": "2024-05-14T10:55:41.139897Z",
     "iopub.status.busy": "2024-05-14T10:55:41.139456Z",
     "iopub.status.idle": "2024-05-14T10:55:41.144932Z",
     "shell.execute_reply": "2024-05-14T10:55:41.143682Z"
    },
    "papermill": {
     "duration": 0.02351,
     "end_time": "2024-05-14T10:55:41.147168",
     "exception": false,
     "start_time": "2024-05-14T10:55:41.123658",
     "status": "completed"
    },
    "tags": []
   },
   "outputs": [],
   "source": [
    "y=df['Occupation']"
   ]
  },
  {
   "cell_type": "code",
   "execution_count": 13,
   "id": "d2d5b501",
   "metadata": {
    "execution": {
     "iopub.execute_input": "2024-05-14T10:55:41.179653Z",
     "iopub.status.busy": "2024-05-14T10:55:41.179236Z",
     "iopub.status.idle": "2024-05-14T10:55:41.185524Z",
     "shell.execute_reply": "2024-05-14T10:55:41.184383Z"
    },
    "papermill": {
     "duration": 0.025355,
     "end_time": "2024-05-14T10:55:41.187939",
     "exception": false,
     "start_time": "2024-05-14T10:55:41.162584",
     "status": "completed"
    },
    "tags": []
   },
   "outputs": [],
   "source": [
    "\n",
    "x=df.drop(['Occupation'],axis=1)"
   ]
  },
  {
   "cell_type": "code",
   "execution_count": 14,
   "id": "ae6d43f0",
   "metadata": {
    "execution": {
     "iopub.execute_input": "2024-05-14T10:55:41.218502Z",
     "iopub.status.busy": "2024-05-14T10:55:41.217889Z",
     "iopub.status.idle": "2024-05-14T10:55:41.225772Z",
     "shell.execute_reply": "2024-05-14T10:55:41.224756Z"
    },
    "papermill": {
     "duration": 0.025717,
     "end_time": "2024-05-14T10:55:41.227931",
     "exception": false,
     "start_time": "2024-05-14T10:55:41.202214",
     "status": "completed"
    },
    "tags": []
   },
   "outputs": [
    {
     "data": {
      "text/plain": [
       "0      3\n",
       "1      3\n",
       "2      3\n",
       "3      3\n",
       "4      3\n",
       "      ..\n",
       "383    3\n",
       "384    3\n",
       "385    3\n",
       "386    3\n",
       "387    3\n",
       "Name: Occupation, Length: 388, dtype: int64"
      ]
     },
     "execution_count": 14,
     "metadata": {},
     "output_type": "execute_result"
    }
   ],
   "source": [
    "y"
   ]
  },
  {
   "cell_type": "code",
   "execution_count": 15,
   "id": "379fb38b",
   "metadata": {
    "execution": {
     "iopub.execute_input": "2024-05-14T10:55:41.258591Z",
     "iopub.status.busy": "2024-05-14T10:55:41.257884Z",
     "iopub.status.idle": "2024-05-14T10:55:41.284558Z",
     "shell.execute_reply": "2024-05-14T10:55:41.283383Z"
    },
    "papermill": {
     "duration": 0.04483,
     "end_time": "2024-05-14T10:55:41.287101",
     "exception": false,
     "start_time": "2024-05-14T10:55:41.242271",
     "status": "completed"
    },
    "tags": []
   },
   "outputs": [
    {
     "data": {
      "text/html": [
       "<div>\n",
       "<style scoped>\n",
       "    .dataframe tbody tr th:only-of-type {\n",
       "        vertical-align: middle;\n",
       "    }\n",
       "\n",
       "    .dataframe tbody tr th {\n",
       "        vertical-align: top;\n",
       "    }\n",
       "\n",
       "    .dataframe thead th {\n",
       "        text-align: right;\n",
       "    }\n",
       "</style>\n",
       "<table border=\"1\" class=\"dataframe\">\n",
       "  <thead>\n",
       "    <tr style=\"text-align: right;\">\n",
       "      <th></th>\n",
       "      <th>Age</th>\n",
       "      <th>Family size</th>\n",
       "      <th>latitude</th>\n",
       "      <th>longitude</th>\n",
       "      <th>Pin code</th>\n",
       "      <th>Gender_Female</th>\n",
       "      <th>Gender_Male</th>\n",
       "      <th>Marital Status_Married</th>\n",
       "      <th>Marital Status_Prefer not to say</th>\n",
       "      <th>Marital Status_Single</th>\n",
       "      <th>...</th>\n",
       "      <th>Educational Qualifications_Ph.D</th>\n",
       "      <th>Educational Qualifications_Post Graduate</th>\n",
       "      <th>Educational Qualifications_School</th>\n",
       "      <th>Educational Qualifications_Uneducated</th>\n",
       "      <th>Output_No</th>\n",
       "      <th>Output_Yes</th>\n",
       "      <th>Feedback_Negative</th>\n",
       "      <th>Feedback_Positive</th>\n",
       "      <th>Unnamed: 12_No</th>\n",
       "      <th>Unnamed: 12_Yes</th>\n",
       "    </tr>\n",
       "  </thead>\n",
       "  <tbody>\n",
       "    <tr>\n",
       "      <th>0</th>\n",
       "      <td>20</td>\n",
       "      <td>4</td>\n",
       "      <td>12.9766</td>\n",
       "      <td>77.5993</td>\n",
       "      <td>560001</td>\n",
       "      <td>True</td>\n",
       "      <td>False</td>\n",
       "      <td>False</td>\n",
       "      <td>False</td>\n",
       "      <td>True</td>\n",
       "      <td>...</td>\n",
       "      <td>False</td>\n",
       "      <td>True</td>\n",
       "      <td>False</td>\n",
       "      <td>False</td>\n",
       "      <td>False</td>\n",
       "      <td>True</td>\n",
       "      <td>False</td>\n",
       "      <td>True</td>\n",
       "      <td>False</td>\n",
       "      <td>True</td>\n",
       "    </tr>\n",
       "    <tr>\n",
       "      <th>1</th>\n",
       "      <td>24</td>\n",
       "      <td>3</td>\n",
       "      <td>12.9770</td>\n",
       "      <td>77.5773</td>\n",
       "      <td>560009</td>\n",
       "      <td>True</td>\n",
       "      <td>False</td>\n",
       "      <td>False</td>\n",
       "      <td>False</td>\n",
       "      <td>True</td>\n",
       "      <td>...</td>\n",
       "      <td>False</td>\n",
       "      <td>False</td>\n",
       "      <td>False</td>\n",
       "      <td>False</td>\n",
       "      <td>False</td>\n",
       "      <td>True</td>\n",
       "      <td>False</td>\n",
       "      <td>True</td>\n",
       "      <td>False</td>\n",
       "      <td>True</td>\n",
       "    </tr>\n",
       "    <tr>\n",
       "      <th>2</th>\n",
       "      <td>22</td>\n",
       "      <td>3</td>\n",
       "      <td>12.9551</td>\n",
       "      <td>77.6593</td>\n",
       "      <td>560017</td>\n",
       "      <td>False</td>\n",
       "      <td>True</td>\n",
       "      <td>False</td>\n",
       "      <td>False</td>\n",
       "      <td>True</td>\n",
       "      <td>...</td>\n",
       "      <td>False</td>\n",
       "      <td>True</td>\n",
       "      <td>False</td>\n",
       "      <td>False</td>\n",
       "      <td>False</td>\n",
       "      <td>True</td>\n",
       "      <td>True</td>\n",
       "      <td>False</td>\n",
       "      <td>False</td>\n",
       "      <td>True</td>\n",
       "    </tr>\n",
       "    <tr>\n",
       "      <th>3</th>\n",
       "      <td>22</td>\n",
       "      <td>6</td>\n",
       "      <td>12.9473</td>\n",
       "      <td>77.5616</td>\n",
       "      <td>560019</td>\n",
       "      <td>True</td>\n",
       "      <td>False</td>\n",
       "      <td>False</td>\n",
       "      <td>False</td>\n",
       "      <td>True</td>\n",
       "      <td>...</td>\n",
       "      <td>False</td>\n",
       "      <td>False</td>\n",
       "      <td>False</td>\n",
       "      <td>False</td>\n",
       "      <td>False</td>\n",
       "      <td>True</td>\n",
       "      <td>False</td>\n",
       "      <td>True</td>\n",
       "      <td>False</td>\n",
       "      <td>True</td>\n",
       "    </tr>\n",
       "    <tr>\n",
       "      <th>4</th>\n",
       "      <td>22</td>\n",
       "      <td>4</td>\n",
       "      <td>12.9850</td>\n",
       "      <td>77.5533</td>\n",
       "      <td>560010</td>\n",
       "      <td>False</td>\n",
       "      <td>True</td>\n",
       "      <td>False</td>\n",
       "      <td>False</td>\n",
       "      <td>True</td>\n",
       "      <td>...</td>\n",
       "      <td>False</td>\n",
       "      <td>True</td>\n",
       "      <td>False</td>\n",
       "      <td>False</td>\n",
       "      <td>False</td>\n",
       "      <td>True</td>\n",
       "      <td>False</td>\n",
       "      <td>True</td>\n",
       "      <td>False</td>\n",
       "      <td>True</td>\n",
       "    </tr>\n",
       "    <tr>\n",
       "      <th>...</th>\n",
       "      <td>...</td>\n",
       "      <td>...</td>\n",
       "      <td>...</td>\n",
       "      <td>...</td>\n",
       "      <td>...</td>\n",
       "      <td>...</td>\n",
       "      <td>...</td>\n",
       "      <td>...</td>\n",
       "      <td>...</td>\n",
       "      <td>...</td>\n",
       "      <td>...</td>\n",
       "      <td>...</td>\n",
       "      <td>...</td>\n",
       "      <td>...</td>\n",
       "      <td>...</td>\n",
       "      <td>...</td>\n",
       "      <td>...</td>\n",
       "      <td>...</td>\n",
       "      <td>...</td>\n",
       "      <td>...</td>\n",
       "      <td>...</td>\n",
       "    </tr>\n",
       "    <tr>\n",
       "      <th>383</th>\n",
       "      <td>23</td>\n",
       "      <td>2</td>\n",
       "      <td>12.9766</td>\n",
       "      <td>77.5993</td>\n",
       "      <td>560001</td>\n",
       "      <td>True</td>\n",
       "      <td>False</td>\n",
       "      <td>False</td>\n",
       "      <td>False</td>\n",
       "      <td>True</td>\n",
       "      <td>...</td>\n",
       "      <td>False</td>\n",
       "      <td>True</td>\n",
       "      <td>False</td>\n",
       "      <td>False</td>\n",
       "      <td>False</td>\n",
       "      <td>True</td>\n",
       "      <td>False</td>\n",
       "      <td>True</td>\n",
       "      <td>False</td>\n",
       "      <td>True</td>\n",
       "    </tr>\n",
       "    <tr>\n",
       "      <th>384</th>\n",
       "      <td>23</td>\n",
       "      <td>4</td>\n",
       "      <td>12.9854</td>\n",
       "      <td>77.7081</td>\n",
       "      <td>560048</td>\n",
       "      <td>True</td>\n",
       "      <td>False</td>\n",
       "      <td>False</td>\n",
       "      <td>False</td>\n",
       "      <td>True</td>\n",
       "      <td>...</td>\n",
       "      <td>False</td>\n",
       "      <td>True</td>\n",
       "      <td>False</td>\n",
       "      <td>False</td>\n",
       "      <td>False</td>\n",
       "      <td>True</td>\n",
       "      <td>False</td>\n",
       "      <td>True</td>\n",
       "      <td>False</td>\n",
       "      <td>True</td>\n",
       "    </tr>\n",
       "    <tr>\n",
       "      <th>385</th>\n",
       "      <td>22</td>\n",
       "      <td>5</td>\n",
       "      <td>12.9850</td>\n",
       "      <td>77.5533</td>\n",
       "      <td>560010</td>\n",
       "      <td>True</td>\n",
       "      <td>False</td>\n",
       "      <td>False</td>\n",
       "      <td>False</td>\n",
       "      <td>True</td>\n",
       "      <td>...</td>\n",
       "      <td>False</td>\n",
       "      <td>True</td>\n",
       "      <td>False</td>\n",
       "      <td>False</td>\n",
       "      <td>False</td>\n",
       "      <td>True</td>\n",
       "      <td>False</td>\n",
       "      <td>True</td>\n",
       "      <td>False</td>\n",
       "      <td>True</td>\n",
       "    </tr>\n",
       "    <tr>\n",
       "      <th>386</th>\n",
       "      <td>23</td>\n",
       "      <td>2</td>\n",
       "      <td>12.9770</td>\n",
       "      <td>77.5773</td>\n",
       "      <td>560009</td>\n",
       "      <td>False</td>\n",
       "      <td>True</td>\n",
       "      <td>False</td>\n",
       "      <td>False</td>\n",
       "      <td>True</td>\n",
       "      <td>...</td>\n",
       "      <td>False</td>\n",
       "      <td>True</td>\n",
       "      <td>False</td>\n",
       "      <td>False</td>\n",
       "      <td>False</td>\n",
       "      <td>True</td>\n",
       "      <td>False</td>\n",
       "      <td>True</td>\n",
       "      <td>False</td>\n",
       "      <td>True</td>\n",
       "    </tr>\n",
       "    <tr>\n",
       "      <th>387</th>\n",
       "      <td>23</td>\n",
       "      <td>5</td>\n",
       "      <td>12.8988</td>\n",
       "      <td>77.5764</td>\n",
       "      <td>560078</td>\n",
       "      <td>False</td>\n",
       "      <td>True</td>\n",
       "      <td>False</td>\n",
       "      <td>False</td>\n",
       "      <td>True</td>\n",
       "      <td>...</td>\n",
       "      <td>False</td>\n",
       "      <td>True</td>\n",
       "      <td>False</td>\n",
       "      <td>False</td>\n",
       "      <td>False</td>\n",
       "      <td>True</td>\n",
       "      <td>False</td>\n",
       "      <td>True</td>\n",
       "      <td>False</td>\n",
       "      <td>True</td>\n",
       "    </tr>\n",
       "  </tbody>\n",
       "</table>\n",
       "<p>388 rows × 26 columns</p>\n",
       "</div>"
      ],
      "text/plain": [
       "     Age  Family size  latitude  longitude  Pin code  Gender_Female  \\\n",
       "0     20            4   12.9766    77.5993    560001           True   \n",
       "1     24            3   12.9770    77.5773    560009           True   \n",
       "2     22            3   12.9551    77.6593    560017          False   \n",
       "3     22            6   12.9473    77.5616    560019           True   \n",
       "4     22            4   12.9850    77.5533    560010          False   \n",
       "..   ...          ...       ...        ...       ...            ...   \n",
       "383   23            2   12.9766    77.5993    560001           True   \n",
       "384   23            4   12.9854    77.7081    560048           True   \n",
       "385   22            5   12.9850    77.5533    560010           True   \n",
       "386   23            2   12.9770    77.5773    560009          False   \n",
       "387   23            5   12.8988    77.5764    560078          False   \n",
       "\n",
       "     Gender_Male  Marital Status_Married  Marital Status_Prefer not to say  \\\n",
       "0          False                   False                             False   \n",
       "1          False                   False                             False   \n",
       "2           True                   False                             False   \n",
       "3          False                   False                             False   \n",
       "4           True                   False                             False   \n",
       "..           ...                     ...                               ...   \n",
       "383        False                   False                             False   \n",
       "384        False                   False                             False   \n",
       "385        False                   False                             False   \n",
       "386         True                   False                             False   \n",
       "387         True                   False                             False   \n",
       "\n",
       "     Marital Status_Single  ...  Educational Qualifications_Ph.D  \\\n",
       "0                     True  ...                            False   \n",
       "1                     True  ...                            False   \n",
       "2                     True  ...                            False   \n",
       "3                     True  ...                            False   \n",
       "4                     True  ...                            False   \n",
       "..                     ...  ...                              ...   \n",
       "383                   True  ...                            False   \n",
       "384                   True  ...                            False   \n",
       "385                   True  ...                            False   \n",
       "386                   True  ...                            False   \n",
       "387                   True  ...                            False   \n",
       "\n",
       "     Educational Qualifications_Post Graduate  \\\n",
       "0                                        True   \n",
       "1                                       False   \n",
       "2                                        True   \n",
       "3                                       False   \n",
       "4                                        True   \n",
       "..                                        ...   \n",
       "383                                      True   \n",
       "384                                      True   \n",
       "385                                      True   \n",
       "386                                      True   \n",
       "387                                      True   \n",
       "\n",
       "     Educational Qualifications_School  Educational Qualifications_Uneducated  \\\n",
       "0                                False                                  False   \n",
       "1                                False                                  False   \n",
       "2                                False                                  False   \n",
       "3                                False                                  False   \n",
       "4                                False                                  False   \n",
       "..                                 ...                                    ...   \n",
       "383                              False                                  False   \n",
       "384                              False                                  False   \n",
       "385                              False                                  False   \n",
       "386                              False                                  False   \n",
       "387                              False                                  False   \n",
       "\n",
       "     Output_No  Output_Yes  Feedback_Negative   Feedback_Positive  \\\n",
       "0        False        True               False               True   \n",
       "1        False        True               False               True   \n",
       "2        False        True                True              False   \n",
       "3        False        True               False               True   \n",
       "4        False        True               False               True   \n",
       "..         ...         ...                 ...                ...   \n",
       "383      False        True               False               True   \n",
       "384      False        True               False               True   \n",
       "385      False        True               False               True   \n",
       "386      False        True               False               True   \n",
       "387      False        True               False               True   \n",
       "\n",
       "     Unnamed: 12_No  Unnamed: 12_Yes  \n",
       "0             False             True  \n",
       "1             False             True  \n",
       "2             False             True  \n",
       "3             False             True  \n",
       "4             False             True  \n",
       "..              ...              ...  \n",
       "383           False             True  \n",
       "384           False             True  \n",
       "385           False             True  \n",
       "386           False             True  \n",
       "387           False             True  \n",
       "\n",
       "[388 rows x 26 columns]"
      ]
     },
     "execution_count": 15,
     "metadata": {},
     "output_type": "execute_result"
    }
   ],
   "source": [
    "x"
   ]
  },
  {
   "cell_type": "code",
   "execution_count": null,
   "id": "18c45e5a",
   "metadata": {
    "papermill": {
     "duration": 0.014815,
     "end_time": "2024-05-14T10:55:41.317041",
     "exception": false,
     "start_time": "2024-05-14T10:55:41.302226",
     "status": "completed"
    },
    "tags": []
   },
   "outputs": [],
   "source": []
  },
  {
   "cell_type": "code",
   "execution_count": 16,
   "id": "34a771e0",
   "metadata": {
    "execution": {
     "iopub.execute_input": "2024-05-14T10:55:41.348425Z",
     "iopub.status.busy": "2024-05-14T10:55:41.348018Z",
     "iopub.status.idle": "2024-05-14T10:55:41.728255Z",
     "shell.execute_reply": "2024-05-14T10:55:41.727316Z"
    },
    "papermill": {
     "duration": 0.399022,
     "end_time": "2024-05-14T10:55:41.730943",
     "exception": false,
     "start_time": "2024-05-14T10:55:41.331921",
     "status": "completed"
    },
    "tags": []
   },
   "outputs": [
    {
     "name": "stdout",
     "output_type": "stream",
     "text": [
      "Monthly Income_More than 50000: 0.4705850268331322\n",
      "Age: 0.3253179226267693\n",
      "Gender_Male: 0.2584496399376579\n",
      "Marital Status_Prefer not to say: 0.24358791264902635\n",
      "Monthly Income_10001 to 25000: 0.15570566630004357\n",
      "Monthly Income_Below Rs.10000: 0.14813276913491435\n",
      "latitude: 0.12426044368056899\n",
      "longitude: 0.11718994569908059\n",
      "Family size: 0.10599548664610658\n",
      "Educational Qualifications_Post Graduate: 0.05776272595791432\n",
      "Gender_Female: 0.0548176809155283\n",
      "Feedback_Positive: 0.05235262105328653\n",
      "Educational Qualifications_Graduate: 0.04999964240723842\n",
      "Marital Status_Single: 0.049810121193874846\n",
      "Educational Qualifications_Ph.D: 0.0366222105088696\n",
      "Occupation: 0.03378379518692398\n",
      "Output_No: 0.02706608917314779\n",
      "Monthly Income_25001 to 50000: 0.026307548892923638\n",
      "Pin code: 0.025598321793379286\n",
      "Monthly Income_No Income: 0.02378158283237397\n",
      "Educational Qualifications_Uneducated: 0.014665887086080964\n",
      "Feedback_Negative : 0.013536321261207629\n",
      "Marital Status_Married: 0.007458261091494167\n",
      "Unnamed: 12_No: 0.004605796949097352\n",
      "Educational Qualifications_School: 0.0\n",
      "Output_Yes: 0.0\n"
     ]
    }
   ],
   "source": [
    "from sklearn.feature_selection import mutual_info_classif\n",
    "mi_scores = mutual_info_classif(x, y)\n",
    "\n",
    "sorted_indices = np.argsort(mi_scores)[::-1]\n",
    "\n",
    "for i in sorted_indices:\n",
    "  print(f\"{df.columns[i]}: {mi_scores[i]}\")"
   ]
  },
  {
   "cell_type": "code",
   "execution_count": null,
   "id": "898e390e",
   "metadata": {
    "papermill": {
     "duration": 0.015863,
     "end_time": "2024-05-14T10:55:41.763306",
     "exception": false,
     "start_time": "2024-05-14T10:55:41.747443",
     "status": "completed"
    },
    "tags": []
   },
   "outputs": [],
   "source": []
  },
  {
   "cell_type": "code",
   "execution_count": 17,
   "id": "7c3d042a",
   "metadata": {
    "execution": {
     "iopub.execute_input": "2024-05-14T10:55:41.797809Z",
     "iopub.status.busy": "2024-05-14T10:55:41.796975Z",
     "iopub.status.idle": "2024-05-14T10:55:42.361933Z",
     "shell.execute_reply": "2024-05-14T10:55:42.360249Z"
    },
    "papermill": {
     "duration": 0.585298,
     "end_time": "2024-05-14T10:55:42.364869",
     "exception": false,
     "start_time": "2024-05-14T10:55:41.779571",
     "status": "completed"
    },
    "tags": []
   },
   "outputs": [
    {
     "data": {
      "text/plain": [
       "<function matplotlib.pyplot.show(close=None, block=None)>"
      ]
     },
     "execution_count": 17,
     "metadata": {},
     "output_type": "execute_result"
    },
    {
     "data": {
      "image/png": "[encoded data removed]",
      "text/plain": [
       "<Figure size 640x480 with 1 Axes>"
      ]
     },
     "metadata": {},
     "output_type": "display_data"
    }
   ],
   "source": [
    "import matplotlib.pyplot as plt\n",
    "importance=mutual_info_classif(x,y)\n",
    "feat_imp=pd.Series(importance,x.columns[:])\n",
    "feat_imp.plot(kind=\"barh\",color=\"teal\")\n",
    "plt.show"
   ]
  },
  {
   "cell_type": "code",
   "execution_count": 18,
   "id": "494100bd",
   "metadata": {
    "execution": {
     "iopub.execute_input": "2024-05-14T10:55:42.400362Z",
     "iopub.status.busy": "2024-05-14T10:55:42.399972Z",
     "iopub.status.idle": "2024-05-14T10:55:42.426638Z",
     "shell.execute_reply": "2024-05-14T10:55:42.425545Z"
    },
    "papermill": {
     "duration": 0.04746,
     "end_time": "2024-05-14T10:55:42.429011",
     "exception": false,
     "start_time": "2024-05-14T10:55:42.381551",
     "status": "completed"
    },
    "tags": []
   },
   "outputs": [
    {
     "data": {
      "text/html": [
       "<div>\n",
       "<style scoped>\n",
       "    .dataframe tbody tr th:only-of-type {\n",
       "        vertical-align: middle;\n",
       "    }\n",
       "\n",
       "    .dataframe tbody tr th {\n",
       "        vertical-align: top;\n",
       "    }\n",
       "\n",
       "    .dataframe thead th {\n",
       "        text-align: right;\n",
       "    }\n",
       "</style>\n",
       "<table border=\"1\" class=\"dataframe\">\n",
       "  <thead>\n",
       "    <tr style=\"text-align: right;\">\n",
       "      <th></th>\n",
       "      <th>Age</th>\n",
       "      <th>longitude</th>\n",
       "      <th>Gender_Female</th>\n",
       "      <th>Marital Status_Single</th>\n",
       "      <th>Monthly Income_10001 to 25000</th>\n",
       "      <th>Feedback_Negative</th>\n",
       "      <th>Feedback_Positive</th>\n",
       "      <th>Unnamed: 12_No</th>\n",
       "      <th>Unnamed: 12_Yes</th>\n",
       "    </tr>\n",
       "  </thead>\n",
       "  <tbody>\n",
       "    <tr>\n",
       "      <th>0</th>\n",
       "      <td>20</td>\n",
       "      <td>77.5993</td>\n",
       "      <td>True</td>\n",
       "      <td>True</td>\n",
       "      <td>False</td>\n",
       "      <td>False</td>\n",
       "      <td>True</td>\n",
       "      <td>False</td>\n",
       "      <td>True</td>\n",
       "    </tr>\n",
       "    <tr>\n",
       "      <th>1</th>\n",
       "      <td>24</td>\n",
       "      <td>77.5773</td>\n",
       "      <td>True</td>\n",
       "      <td>True</td>\n",
       "      <td>False</td>\n",
       "      <td>False</td>\n",
       "      <td>True</td>\n",
       "      <td>False</td>\n",
       "      <td>True</td>\n",
       "    </tr>\n",
       "    <tr>\n",
       "      <th>2</th>\n",
       "      <td>22</td>\n",
       "      <td>77.6593</td>\n",
       "      <td>False</td>\n",
       "      <td>True</td>\n",
       "      <td>False</td>\n",
       "      <td>True</td>\n",
       "      <td>False</td>\n",
       "      <td>False</td>\n",
       "      <td>True</td>\n",
       "    </tr>\n",
       "    <tr>\n",
       "      <th>3</th>\n",
       "      <td>22</td>\n",
       "      <td>77.5616</td>\n",
       "      <td>True</td>\n",
       "      <td>True</td>\n",
       "      <td>False</td>\n",
       "      <td>False</td>\n",
       "      <td>True</td>\n",
       "      <td>False</td>\n",
       "      <td>True</td>\n",
       "    </tr>\n",
       "    <tr>\n",
       "      <th>4</th>\n",
       "      <td>22</td>\n",
       "      <td>77.5533</td>\n",
       "      <td>False</td>\n",
       "      <td>True</td>\n",
       "      <td>False</td>\n",
       "      <td>False</td>\n",
       "      <td>True</td>\n",
       "      <td>False</td>\n",
       "      <td>True</td>\n",
       "    </tr>\n",
       "    <tr>\n",
       "      <th>...</th>\n",
       "      <td>...</td>\n",
       "      <td>...</td>\n",
       "      <td>...</td>\n",
       "      <td>...</td>\n",
       "      <td>...</td>\n",
       "      <td>...</td>\n",
       "      <td>...</td>\n",
       "      <td>...</td>\n",
       "      <td>...</td>\n",
       "    </tr>\n",
       "    <tr>\n",
       "      <th>383</th>\n",
       "      <td>23</td>\n",
       "      <td>77.5993</td>\n",
       "      <td>True</td>\n",
       "      <td>True</td>\n",
       "      <td>False</td>\n",
       "      <td>False</td>\n",
       "      <td>True</td>\n",
       "      <td>False</td>\n",
       "      <td>True</td>\n",
       "    </tr>\n",
       "    <tr>\n",
       "      <th>384</th>\n",
       "      <td>23</td>\n",
       "      <td>77.7081</td>\n",
       "      <td>True</td>\n",
       "      <td>True</td>\n",
       "      <td>False</td>\n",
       "      <td>False</td>\n",
       "      <td>True</td>\n",
       "      <td>False</td>\n",
       "      <td>True</td>\n",
       "    </tr>\n",
       "    <tr>\n",
       "      <th>385</th>\n",
       "      <td>22</td>\n",
       "      <td>77.5533</td>\n",
       "      <td>True</td>\n",
       "      <td>True</td>\n",
       "      <td>False</td>\n",
       "      <td>False</td>\n",
       "      <td>True</td>\n",
       "      <td>False</td>\n",
       "      <td>True</td>\n",
       "    </tr>\n",
       "    <tr>\n",
       "      <th>386</th>\n",
       "      <td>23</td>\n",
       "      <td>77.5773</td>\n",
       "      <td>False</td>\n",
       "      <td>True</td>\n",
       "      <td>False</td>\n",
       "      <td>False</td>\n",
       "      <td>True</td>\n",
       "      <td>False</td>\n",
       "      <td>True</td>\n",
       "    </tr>\n",
       "    <tr>\n",
       "      <th>387</th>\n",
       "      <td>23</td>\n",
       "      <td>77.5764</td>\n",
       "      <td>False</td>\n",
       "      <td>True</td>\n",
       "      <td>False</td>\n",
       "      <td>False</td>\n",
       "      <td>True</td>\n",
       "      <td>False</td>\n",
       "      <td>True</td>\n",
       "    </tr>\n",
       "  </tbody>\n",
       "</table>\n",
       "<p>388 rows × 9 columns</p>\n",
       "</div>"
      ],
      "text/plain": [
       "     Age  longitude  Gender_Female  Marital Status_Single  \\\n",
       "0     20    77.5993           True                   True   \n",
       "1     24    77.5773           True                   True   \n",
       "2     22    77.6593          False                   True   \n",
       "3     22    77.5616           True                   True   \n",
       "4     22    77.5533          False                   True   \n",
       "..   ...        ...            ...                    ...   \n",
       "383   23    77.5993           True                   True   \n",
       "384   23    77.7081           True                   True   \n",
       "385   22    77.5533           True                   True   \n",
       "386   23    77.5773          False                   True   \n",
       "387   23    77.5764          False                   True   \n",
       "\n",
       "     Monthly Income_10001 to 25000  Feedback_Negative   Feedback_Positive  \\\n",
       "0                            False               False               True   \n",
       "1                            False               False               True   \n",
       "2                            False                True              False   \n",
       "3                            False               False               True   \n",
       "4                            False               False               True   \n",
       "..                             ...                 ...                ...   \n",
       "383                          False               False               True   \n",
       "384                          False               False               True   \n",
       "385                          False               False               True   \n",
       "386                          False               False               True   \n",
       "387                          False               False               True   \n",
       "\n",
       "     Unnamed: 12_No  Unnamed: 12_Yes  \n",
       "0             False             True  \n",
       "1             False             True  \n",
       "2             False             True  \n",
       "3             False             True  \n",
       "4             False             True  \n",
       "..              ...              ...  \n",
       "383           False             True  \n",
       "384           False             True  \n",
       "385           False             True  \n",
       "386           False             True  \n",
       "387           False             True  \n",
       "\n",
       "[388 rows x 9 columns]"
      ]
     },
     "execution_count": 18,
     "metadata": {},
     "output_type": "execute_result"
    }
   ],
   "source": [
    "# Assuming you have a DataFrame named df and the mutual information scores in a dictionary named mutual_info_scores\n",
    "mutual_info_scores = {\n",
    "    'Monthly Income_10001 to 25000': 0.49157250393602614,\n",
    "    'Age': 0.30081796900927427,\n",
    "    'Gender_Female': 0.2359393736070261,\n",
    "    'longitude': 0.23263381892330148,\n",
    "    'Marital Status_Single': 0.12940124824115307,\n",
    "    'Marital Status_Married': 0.09819775136770126,\n",
    "    'Gender_Male': 0.08929953574382954,\n",
    "    'Educational Qualifications_Ph.D': 0.08436743736658947,\n",
    "    'Monthly Income_No Income': 0.08324765262074618,\n",
    "    'Output_No': 0.07494049111042234,\n",
    "    'Family size': 0.07377298034500135,\n",
    "    'Educational Qualifications_Post Graduate': 0.059667014269953134,\n",
    "    'Pin code': 0.054613516484299796,\n",
    "    'Educational Qualifications_Graduate': 0.05260383293333648,\n",
    "    'Monthly Income_More than 50000': 0.04849268094730186,\n",
    "    'Monthly Income_25001 to 50000': 0.04069527217380764,\n",
    "    'latitude': 0.03643127922699274,\n",
    "    'Monthly Income_Below Rs.10000': 0.013004385104133709,\n",
    "    'Educational Qualifications_Uneducated': 0.0,\n",
    "    'Marital Status_Prefer not to say': 0.0,\n",
    "    'Educational Qualifications_School': 0.0,\n",
    "    'Output_Yes': 0.0\n",
    "}\n",
    "\n",
    "mi_scores_df = pd.DataFrame(mutual_info_scores.items(), columns=['Column', 'MI Score'])\n",
    "\n",
    "columns_to_drop = mi_scores_df[mi_scores_df['MI Score'] < 0.1]['Column'].tolist()\n",
    "x.drop(columns=columns_to_drop, inplace=True)\n",
    "x\n"
   ]
  },
  {
   "cell_type": "code",
   "execution_count": 19,
   "id": "9aa407cb",
   "metadata": {
    "execution": {
     "iopub.execute_input": "2024-05-14T10:55:42.530910Z",
     "iopub.status.busy": "2024-05-14T10:55:42.529593Z",
     "iopub.status.idle": "2024-05-14T10:55:42.538315Z",
     "shell.execute_reply": "2024-05-14T10:55:42.537454Z"
    },
    "papermill": {
     "duration": 0.028634,
     "end_time": "2024-05-14T10:55:42.540511",
     "exception": false,
     "start_time": "2024-05-14T10:55:42.511877",
     "status": "completed"
    },
    "tags": []
   },
   "outputs": [],
   "source": [
    "from sklearn.model_selection import train_test_split\n",
    "x_train,x_test,y_train,y_test=train_test_split(x,y,test_size=0.4,random_state=42)"
   ]
  },
  {
   "cell_type": "markdown",
   "id": "a238b353",
   "metadata": {
    "papermill": {
     "duration": 0.016286,
     "end_time": "2024-05-14T10:55:42.573318",
     "exception": false,
     "start_time": "2024-05-14T10:55:42.557032",
     "status": "completed"
    },
    "tags": []
   },
   "source": [
    "### SVM"
   ]
  },
  {
   "cell_type": "code",
   "execution_count": null,
   "id": "a13899a6",
   "metadata": {
    "papermill": {
     "duration": 0.016495,
     "end_time": "2024-05-14T10:55:42.606369",
     "exception": false,
     "start_time": "2024-05-14T10:55:42.589874",
     "status": "completed"
    },
    "tags": []
   },
   "outputs": [],
   "source": []
  },
  {
   "cell_type": "code",
   "execution_count": 20,
   "id": "42f1a4e2",
   "metadata": {
    "execution": {
     "iopub.execute_input": "2024-05-14T10:55:42.641736Z",
     "iopub.status.busy": "2024-05-14T10:55:42.640555Z",
     "iopub.status.idle": "2024-05-14T10:55:42.646756Z",
     "shell.execute_reply": "2024-05-14T10:55:42.645948Z"
    },
    "papermill": {
     "duration": 0.025947,
     "end_time": "2024-05-14T10:55:42.648849",
     "exception": false,
     "start_time": "2024-05-14T10:55:42.622902",
     "status": "completed"
    },
    "tags": []
   },
   "outputs": [],
   "source": [
    "from sklearn.svm import SVC\n",
    "from sklearn.model_selection import GridSearchCV,train_test_split\n",
    "s=SVC()\n",
    "parameter={'C':[0.1,10,100,0.01],\"kernel\":['rbf','linear','poly'],'gamma':['scale','auto']}\n",
    "g=GridSearchCV(s,parameter,cv=4)"
   ]
  },
  {
   "cell_type": "code",
   "execution_count": null,
   "id": "de640b59",
   "metadata": {
    "papermill": {
     "duration": 0.017026,
     "end_time": "2024-05-14T10:55:42.682480",
     "exception": false,
     "start_time": "2024-05-14T10:55:42.665454",
     "status": "completed"
    },
    "tags": []
   },
   "outputs": [],
   "source": []
  },
  {
   "cell_type": "code",
   "execution_count": null,
   "id": "c111ee17",
   "metadata": {
    "papermill": {
     "duration": 0.017147,
     "end_time": "2024-05-14T10:55:42.716416",
     "exception": false,
     "start_time": "2024-05-14T10:55:42.699269",
     "status": "completed"
    },
    "tags": []
   },
   "outputs": [],
   "source": []
  },
  {
   "cell_type": "code",
   "execution_count": 21,
   "id": "417d7a82",
   "metadata": {
    "execution": {
     "iopub.execute_input": "2024-05-14T10:55:42.752053Z",
     "iopub.status.busy": "2024-05-14T10:55:42.750794Z",
     "iopub.status.idle": "2024-05-14T10:56:03.252377Z",
     "shell.execute_reply": "2024-05-14T10:56:03.250877Z"
    },
    "papermill": {
     "duration": 20.522227,
     "end_time": "2024-05-14T10:56:03.255339",
     "exception": false,
     "start_time": "2024-05-14T10:55:42.733112",
     "status": "completed"
    },
    "tags": []
   },
   "outputs": [
    {
     "data": {
      "text/html": [
       "<style>#sk-container-id-1 {color: black;background-color: white;}#sk-container-id-1 pre{padding: 0;}#sk-container-id-1 div.sk-toggleable {background-color: white;}#sk-container-id-1 label.sk-toggleable__label {cursor: pointer;display: block;width: 100%;margin-bottom: 0;padding: 0.3em;box-sizing: border-box;text-align: center;}#sk-container-id-1 label.sk-toggleable__label-arrow:before {content: \"▸\";float: left;margin-right: 0.25em;color: #696969;}#sk-container-id-1 label.sk-toggleable__label-arrow:hover:before {color: black;}#sk-container-id-1 div.sk-estimator:hover label.sk-toggleable__label-arrow:before {color: black;}#sk-container-id-1 div.sk-toggleable__content {max-height: 0;max-width: 0;overflow: hidden;text-align: left;background-color: #f0f8ff;}#sk-container-id-1 div.sk-toggleable__content pre {margin: 0.2em;color: black;border-radius: 0.25em;background-color: #f0f8ff;}#sk-container-id-1 input.sk-toggleable__control:checked~div.sk-toggleable__content {max-height: 200px;max-width: 100%;overflow: auto;}#sk-container-id-1 input.sk-toggleable__control:checked~label.sk-toggleable__label-arrow:before {content: \"▾\";}#sk-container-id-1 div.sk-estimator input.sk-toggleable__control:checked~label.sk-toggleable__label {background-color: #d4ebff;}#sk-container-id-1 div.sk-label input.sk-toggleable__control:checked~label.sk-toggleable__label {background-color: #d4ebff;}#sk-container-id-1 input.sk-hidden--visually {border: 0;clip: rect(1px 1px 1px 1px);clip: rect(1px, 1px, 1px, 1px);height: 1px;margin: -1px;overflow: hidden;padding: 0;position: absolute;width: 1px;}#sk-container-id-1 div.sk-estimator {font-family: monospace;background-color: #f0f8ff;border: 1px dotted black;border-radius: 0.25em;box-sizing: border-box;margin-bottom: 0.5em;}#sk-container-id-1 div.sk-estimator:hover {background-color: #d4ebff;}#sk-container-id-1 div.sk-parallel-item::after {content: \"\";width: 100%;border-bottom: 1px solid gray;flex-grow: 1;}#sk-container-id-1 div.sk-label:hover label.sk-toggleable__label {background-color: #d4ebff;}#sk-container-id-1 div.sk-serial::before {content: \"\";position: absolute;border-left: 1px solid gray;box-sizing: border-box;top: 0;bottom: 0;left: 50%;z-index: 0;}#sk-container-id-1 div.sk-serial {display: flex;flex-direction: column;align-items: center;background-color: white;padding-right: 0.2em;padding-left: 0.2em;position: relative;}#sk-container-id-1 div.sk-item {position: relative;z-index: 1;}#sk-container-id-1 div.sk-parallel {display: flex;align-items: stretch;justify-content: center;background-color: white;position: relative;}#sk-container-id-1 div.sk-item::before, #sk-container-id-1 div.sk-parallel-item::before {content: \"\";position: absolute;border-left: 1px solid gray;box-sizing: border-box;top: 0;bottom: 0;left: 50%;z-index: -1;}#sk-container-id-1 div.sk-parallel-item {display: flex;flex-direction: column;z-index: 1;position: relative;background-color: white;}#sk-container-id-1 div.sk-parallel-item:first-child::after {align-self: flex-end;width: 50%;}#sk-container-id-1 div.sk-parallel-item:last-child::after {align-self: flex-start;width: 50%;}#sk-container-id-1 div.sk-parallel-item:only-child::after {width: 0;}#sk-container-id-1 div.sk-dashed-wrapped {border: 1px dashed gray;margin: 0 0.4em 0.5em 0.4em;box-sizing: border-box;padding-bottom: 0.4em;background-color: white;}#sk-container-id-1 div.sk-label label {font-family: monospace;font-weight: bold;display: inline-block;line-height: 1.2em;}#sk-container-id-1 div.sk-label-container {text-align: center;}#sk-container-id-1 div.sk-container {/* jupyter's `normalize.less` sets `[hidden] { display: none; }` but bootstrap.min.css set `[hidden] { display: none !important; }` so we also need the `!important` here to be able to override the default hidden behavior on the sphinx rendered scikit-learn.org. See: https://github.com/scikit-learn/scikit-learn/issues/21755 */display: inline-block !important;position: relative;}#sk-container-id-1 div.sk-text-repr-fallback {display: none;}</style><div id=\"sk-container-id-1\" class=\"sk-top-container\"><div class=\"sk-text-repr-fallback\"><pre>GridSearchCV(cv=4, estimator=SVC(),\n",
       "             param_grid={&#x27;C&#x27;: [0.1, 10, 100, 0.01], &#x27;gamma&#x27;: [&#x27;scale&#x27;, &#x27;auto&#x27;],\n",
       "                         &#x27;kernel&#x27;: [&#x27;rbf&#x27;, &#x27;linear&#x27;, &#x27;poly&#x27;]})</pre><b>In a Jupyter environment, please rerun this cell to show the HTML representation or trust the notebook. <br />On GitHub, the HTML representation is unable to render, please try loading this page with nbviewer.org.</b></div><div class=\"sk-container\" hidden><div class=\"sk-item sk-dashed-wrapped\"><div class=\"sk-label-container\"><div class=\"sk-label sk-toggleable\"><input class=\"sk-toggleable__control sk-hidden--visually\" id=\"sk-estimator-id-1\" type=\"checkbox\" ><label for=\"sk-estimator-id-1\" class=\"sk-toggleable__label sk-toggleable__label-arrow\">GridSearchCV</label><div class=\"sk-toggleable__content\"><pre>GridSearchCV(cv=4, estimator=SVC(),\n",
       "             param_grid={&#x27;C&#x27;: [0.1, 10, 100, 0.01], &#x27;gamma&#x27;: [&#x27;scale&#x27;, &#x27;auto&#x27;],\n",
       "                         &#x27;kernel&#x27;: [&#x27;rbf&#x27;, &#x27;linear&#x27;, &#x27;poly&#x27;]})</pre></div></div></div><div class=\"sk-parallel\"><div class=\"sk-parallel-item\"><div class=\"sk-item\"><div class=\"sk-label-container\"><div class=\"sk-label sk-toggleable\"><input class=\"sk-toggleable__control sk-hidden--visually\" id=\"sk-estimator-id-2\" type=\"checkbox\" ><label for=\"sk-estimator-id-2\" class=\"sk-toggleable__label sk-toggleable__label-arrow\">estimator: SVC</label><div class=\"sk-toggleable__content\"><pre>SVC()</pre></div></div></div><div class=\"sk-serial\"><div class=\"sk-item\"><div class=\"sk-estimator sk-toggleable\"><input class=\"sk-toggleable__control sk-hidden--visually\" id=\"sk-estimator-id-3\" type=\"checkbox\" ><label for=\"sk-estimator-id-3\" class=\"sk-toggleable__label sk-toggleable__label-arrow\">SVC</label><div class=\"sk-toggleable__content\"><pre>SVC()</pre></div></div></div></div></div></div></div></div></div></div>"
      ],
      "text/plain": [
       "GridSearchCV(cv=4, estimator=SVC(),\n",
       "             param_grid={'C': [0.1, 10, 100, 0.01], 'gamma': ['scale', 'auto'],\n",
       "                         'kernel': ['rbf', 'linear', 'poly']})"
      ]
     },
     "execution_count": 21,
     "metadata": {},
     "output_type": "execute_result"
    }
   ],
   "source": [
    "g.fit(x_train,y_train)"
   ]
  },
  {
   "cell_type": "code",
   "execution_count": 22,
   "id": "106b7cf4",
   "metadata": {
    "execution": {
     "iopub.execute_input": "2024-05-14T10:56:03.293462Z",
     "iopub.status.busy": "2024-05-14T10:56:03.293013Z",
     "iopub.status.idle": "2024-05-14T10:56:03.300744Z",
     "shell.execute_reply": "2024-05-14T10:56:03.299399Z"
    },
    "papermill": {
     "duration": 0.029903,
     "end_time": "2024-05-14T10:56:03.303364",
     "exception": false,
     "start_time": "2024-05-14T10:56:03.273461",
     "status": "completed"
    },
    "tags": []
   },
   "outputs": [
    {
     "data": {
      "text/plain": [
       "{'C': 10, 'gamma': 'scale', 'kernel': 'linear'}"
      ]
     },
     "execution_count": 22,
     "metadata": {},
     "output_type": "execute_result"
    }
   ],
   "source": [
    "g.best_params_"
   ]
  },
  {
   "cell_type": "code",
   "execution_count": 23,
   "id": "7d07fbff",
   "metadata": {
    "execution": {
     "iopub.execute_input": "2024-05-14T10:56:03.342793Z",
     "iopub.status.busy": "2024-05-14T10:56:03.341427Z",
     "iopub.status.idle": "2024-05-14T10:56:03.350852Z",
     "shell.execute_reply": "2024-05-14T10:56:03.349632Z"
    },
    "papermill": {
     "duration": 0.032055,
     "end_time": "2024-05-14T10:56:03.353775",
     "exception": false,
     "start_time": "2024-05-14T10:56:03.321720",
     "status": "completed"
    },
    "tags": []
   },
   "outputs": [],
   "source": [
    "y_pred=d=g.predict(x_test)"
   ]
  },
  {
   "cell_type": "code",
   "execution_count": 24,
   "id": "0e2dd716",
   "metadata": {
    "execution": {
     "iopub.execute_input": "2024-05-14T10:56:03.394627Z",
     "iopub.status.busy": "2024-05-14T10:56:03.394144Z",
     "iopub.status.idle": "2024-05-14T10:56:03.401930Z",
     "shell.execute_reply": "2024-05-14T10:56:03.400880Z"
    },
    "papermill": {
     "duration": 0.032579,
     "end_time": "2024-05-14T10:56:03.404765",
     "exception": false,
     "start_time": "2024-05-14T10:56:03.372186",
     "status": "completed"
    },
    "tags": []
   },
   "outputs": [
    {
     "name": "stdout",
     "output_type": "stream",
     "text": [
      "0.7628205128205128\n"
     ]
    }
   ],
   "source": [
    "from sklearn.metrics import accuracy_score\n",
    "print(accuracy_score(y_test,y_pred))"
   ]
  },
  {
   "cell_type": "markdown",
   "id": "b62e3eb3",
   "metadata": {
    "papermill": {
     "duration": 0.01848,
     "end_time": "2024-05-14T10:56:03.442531",
     "exception": false,
     "start_time": "2024-05-14T10:56:03.424051",
     "status": "completed"
    },
    "tags": []
   },
   "source": [
    "### KNN"
   ]
  },
  {
   "cell_type": "code",
   "execution_count": 25,
   "id": "d3ea61c0",
   "metadata": {
    "execution": {
     "iopub.execute_input": "2024-05-14T10:56:03.483416Z",
     "iopub.status.busy": "2024-05-14T10:56:03.481982Z",
     "iopub.status.idle": "2024-05-14T10:56:03.488872Z",
     "shell.execute_reply": "2024-05-14T10:56:03.487577Z"
    },
    "papermill": {
     "duration": 0.030458,
     "end_time": "2024-05-14T10:56:03.491721",
     "exception": false,
     "start_time": "2024-05-14T10:56:03.461263",
     "status": "completed"
    },
    "tags": []
   },
   "outputs": [],
   "source": [
    "from sklearn.neighbors import KNeighborsClassifier\n",
    "k=KNeighborsClassifier(3)"
   ]
  },
  {
   "cell_type": "code",
   "execution_count": 26,
   "id": "224c18eb",
   "metadata": {
    "execution": {
     "iopub.execute_input": "2024-05-14T10:56:03.550139Z",
     "iopub.status.busy": "2024-05-14T10:56:03.549406Z",
     "iopub.status.idle": "2024-05-14T10:56:03.563247Z",
     "shell.execute_reply": "2024-05-14T10:56:03.562248Z"
    },
    "papermill": {
     "duration": 0.048473,
     "end_time": "2024-05-14T10:56:03.566744",
     "exception": false,
     "start_time": "2024-05-14T10:56:03.518271",
     "status": "completed"
    },
    "tags": []
   },
   "outputs": [
    {
     "data": {
      "text/html": [
       "<style>#sk-container-id-2 {color: black;background-color: white;}#sk-container-id-2 pre{padding: 0;}#sk-container-id-2 div.sk-toggleable {background-color: white;}#sk-container-id-2 label.sk-toggleable__label {cursor: pointer;display: block;width: 100%;margin-bottom: 0;padding: 0.3em;box-sizing: border-box;text-align: center;}#sk-container-id-2 label.sk-toggleable__label-arrow:before {content: \"▸\";float: left;margin-right: 0.25em;color: #696969;}#sk-container-id-2 label.sk-toggleable__label-arrow:hover:before {color: black;}#sk-container-id-2 div.sk-estimator:hover label.sk-toggleable__label-arrow:before {color: black;}#sk-container-id-2 div.sk-toggleable__content {max-height: 0;max-width: 0;overflow: hidden;text-align: left;background-color: #f0f8ff;}#sk-container-id-2 div.sk-toggleable__content pre {margin: 0.2em;color: black;border-radius: 0.25em;background-color: #f0f8ff;}#sk-container-id-2 input.sk-toggleable__control:checked~div.sk-toggleable__content {max-height: 200px;max-width: 100%;overflow: auto;}#sk-container-id-2 input.sk-toggleable__control:checked~label.sk-toggleable__label-arrow:before {content: \"▾\";}#sk-container-id-2 div.sk-estimator input.sk-toggleable__control:checked~label.sk-toggleable__label {background-color: #d4ebff;}#sk-container-id-2 div.sk-label input.sk-toggleable__control:checked~label.sk-toggleable__label {background-color: #d4ebff;}#sk-container-id-2 input.sk-hidden--visually {border: 0;clip: rect(1px 1px 1px 1px);clip: rect(1px, 1px, 1px, 1px);height: 1px;margin: -1px;overflow: hidden;padding: 0;position: absolute;width: 1px;}#sk-container-id-2 div.sk-estimator {font-family: monospace;background-color: #f0f8ff;border: 1px dotted black;border-radius: 0.25em;box-sizing: border-box;margin-bottom: 0.5em;}#sk-container-id-2 div.sk-estimator:hover {background-color: #d4ebff;}#sk-container-id-2 div.sk-parallel-item::after {content: \"\";width: 100%;border-bottom: 1px solid gray;flex-grow: 1;}#sk-container-id-2 div.sk-label:hover label.sk-toggleable__label {background-color: #d4ebff;}#sk-container-id-2 div.sk-serial::before {content: \"\";position: absolute;border-left: 1px solid gray;box-sizing: border-box;top: 0;bottom: 0;left: 50%;z-index: 0;}#sk-container-id-2 div.sk-serial {display: flex;flex-direction: column;align-items: center;background-color: white;padding-right: 0.2em;padding-left: 0.2em;position: relative;}#sk-container-id-2 div.sk-item {position: relative;z-index: 1;}#sk-container-id-2 div.sk-parallel {display: flex;align-items: stretch;justify-content: center;background-color: white;position: relative;}#sk-container-id-2 div.sk-item::before, #sk-container-id-2 div.sk-parallel-item::before {content: \"\";position: absolute;border-left: 1px solid gray;box-sizing: border-box;top: 0;bottom: 0;left: 50%;z-index: -1;}#sk-container-id-2 div.sk-parallel-item {display: flex;flex-direction: column;z-index: 1;position: relative;background-color: white;}#sk-container-id-2 div.sk-parallel-item:first-child::after {align-self: flex-end;width: 50%;}#sk-container-id-2 div.sk-parallel-item:last-child::after {align-self: flex-start;width: 50%;}#sk-container-id-2 div.sk-parallel-item:only-child::after {width: 0;}#sk-container-id-2 div.sk-dashed-wrapped {border: 1px dashed gray;margin: 0 0.4em 0.5em 0.4em;box-sizing: border-box;padding-bottom: 0.4em;background-color: white;}#sk-container-id-2 div.sk-label label {font-family: monospace;font-weight: bold;display: inline-block;line-height: 1.2em;}#sk-container-id-2 div.sk-label-container {text-align: center;}#sk-container-id-2 div.sk-container {/* jupyter's `normalize.less` sets `[hidden] { display: none; }` but bootstrap.min.css set `[hidden] { display: none !important; }` so we also need the `!important` here to be able to override the default hidden behavior on the sphinx rendered scikit-learn.org. See: https://github.com/scikit-learn/scikit-learn/issues/21755 */display: inline-block !important;position: relative;}#sk-container-id-2 div.sk-text-repr-fallback {display: none;}</style><div id=\"sk-container-id-2\" class=\"sk-top-container\"><div class=\"sk-text-repr-fallback\"><pre>KNeighborsClassifier(n_neighbors=3)</pre><b>In a Jupyter environment, please rerun this cell to show the HTML representation or trust the notebook. <br />On GitHub, the HTML representation is unable to render, please try loading this page with nbviewer.org.</b></div><div class=\"sk-container\" hidden><div class=\"sk-item\"><div class=\"sk-estimator sk-toggleable\"><input class=\"sk-toggleable__control sk-hidden--visually\" id=\"sk-estimator-id-4\" type=\"checkbox\" checked><label for=\"sk-estimator-id-4\" class=\"sk-toggleable__label sk-toggleable__label-arrow\">KNeighborsClassifier</label><div class=\"sk-toggleable__content\"><pre>KNeighborsClassifier(n_neighbors=3)</pre></div></div></div></div></div>"
      ],
      "text/plain": [
       "KNeighborsClassifier(n_neighbors=3)"
      ]
     },
     "execution_count": 26,
     "metadata": {},
     "output_type": "execute_result"
    }
   ],
   "source": [
    "k.fit(x_train,y_train)"
   ]
  },
  {
   "cell_type": "code",
   "execution_count": 27,
   "id": "736e748f",
   "metadata": {
    "execution": {
     "iopub.execute_input": "2024-05-14T10:56:03.613460Z",
     "iopub.status.busy": "2024-05-14T10:56:03.613024Z",
     "iopub.status.idle": "2024-05-14T10:56:03.630535Z",
     "shell.execute_reply": "2024-05-14T10:56:03.629436Z"
    },
    "papermill": {
     "duration": 0.041869,
     "end_time": "2024-05-14T10:56:03.633454",
     "exception": false,
     "start_time": "2024-05-14T10:56:03.591585",
     "status": "completed"
    },
    "tags": []
   },
   "outputs": [],
   "source": [
    "y_pred2=d=k.predict(x_test)"
   ]
  },
  {
   "cell_type": "code",
   "execution_count": 28,
   "id": "943e64f8",
   "metadata": {
    "execution": {
     "iopub.execute_input": "2024-05-14T10:56:03.673645Z",
     "iopub.status.busy": "2024-05-14T10:56:03.673186Z",
     "iopub.status.idle": "2024-05-14T10:56:03.680637Z",
     "shell.execute_reply": "2024-05-14T10:56:03.679491Z"
    },
    "papermill": {
     "duration": 0.03271,
     "end_time": "2024-05-14T10:56:03.684894",
     "exception": false,
     "start_time": "2024-05-14T10:56:03.652184",
     "status": "completed"
    },
    "tags": []
   },
   "outputs": [
    {
     "name": "stdout",
     "output_type": "stream",
     "text": [
      "0.7115384615384616\n"
     ]
    }
   ],
   "source": [
    "from sklearn.metrics import accuracy_score\n",
    "print(accuracy_score(y_test,y_pred2))"
   ]
  },
  {
   "cell_type": "code",
   "execution_count": 29,
   "id": "ab9f34b8",
   "metadata": {
    "execution": {
     "iopub.execute_input": "2024-05-14T10:56:03.725756Z",
     "iopub.status.busy": "2024-05-14T10:56:03.725121Z",
     "iopub.status.idle": "2024-05-14T10:56:03.730792Z",
     "shell.execute_reply": "2024-05-14T10:56:03.729496Z"
    },
    "papermill": {
     "duration": 0.029086,
     "end_time": "2024-05-14T10:56:03.733170",
     "exception": false,
     "start_time": "2024-05-14T10:56:03.704084",
     "status": "completed"
    },
    "tags": []
   },
   "outputs": [],
   "source": [
    "import warnings\n",
    "warnings.filterwarnings(\"ignore\")"
   ]
  },
  {
   "cell_type": "markdown",
   "id": "6442d0ec",
   "metadata": {
    "papermill": {
     "duration": 0.018858,
     "end_time": "2024-05-14T10:56:03.771652",
     "exception": false,
     "start_time": "2024-05-14T10:56:03.752794",
     "status": "completed"
    },
    "tags": []
   },
   "source": [
    "### Logistic regression"
   ]
  },
  {
   "cell_type": "code",
   "execution_count": 30,
   "id": "873d569f",
   "metadata": {
    "execution": {
     "iopub.execute_input": "2024-05-14T10:56:03.814814Z",
     "iopub.status.busy": "2024-05-14T10:56:03.814375Z",
     "iopub.status.idle": "2024-05-14T10:56:03.855178Z",
     "shell.execute_reply": "2024-05-14T10:56:03.853825Z"
    },
    "papermill": {
     "duration": 0.06731,
     "end_time": "2024-05-14T10:56:03.858312",
     "exception": false,
     "start_time": "2024-05-14T10:56:03.791002",
     "status": "completed"
    },
    "tags": []
   },
   "outputs": [
    {
     "data": {
      "text/html": [
       "<style>#sk-container-id-3 {color: black;background-color: white;}#sk-container-id-3 pre{padding: 0;}#sk-container-id-3 div.sk-toggleable {background-color: white;}#sk-container-id-3 label.sk-toggleable__label {cursor: pointer;display: block;width: 100%;margin-bottom: 0;padding: 0.3em;box-sizing: border-box;text-align: center;}#sk-container-id-3 label.sk-toggleable__label-arrow:before {content: \"▸\";float: left;margin-right: 0.25em;color: #696969;}#sk-container-id-3 label.sk-toggleable__label-arrow:hover:before {color: black;}#sk-container-id-3 div.sk-estimator:hover label.sk-toggleable__label-arrow:before {color: black;}#sk-container-id-3 div.sk-toggleable__content {max-height: 0;max-width: 0;overflow: hidden;text-align: left;background-color: #f0f8ff;}#sk-container-id-3 div.sk-toggleable__content pre {margin: 0.2em;color: black;border-radius: 0.25em;background-color: #f0f8ff;}#sk-container-id-3 input.sk-toggleable__control:checked~div.sk-toggleable__content {max-height: 200px;max-width: 100%;overflow: auto;}#sk-container-id-3 input.sk-toggleable__control:checked~label.sk-toggleable__label-arrow:before {content: \"▾\";}#sk-container-id-3 div.sk-estimator input.sk-toggleable__control:checked~label.sk-toggleable__label {background-color: #d4ebff;}#sk-container-id-3 div.sk-label input.sk-toggleable__control:checked~label.sk-toggleable__label {background-color: #d4ebff;}#sk-container-id-3 input.sk-hidden--visually {border: 0;clip: rect(1px 1px 1px 1px);clip: rect(1px, 1px, 1px, 1px);height: 1px;margin: -1px;overflow: hidden;padding: 0;position: absolute;width: 1px;}#sk-container-id-3 div.sk-estimator {font-family: monospace;background-color: #f0f8ff;border: 1px dotted black;border-radius: 0.25em;box-sizing: border-box;margin-bottom: 0.5em;}#sk-container-id-3 div.sk-estimator:hover {background-color: #d4ebff;}#sk-container-id-3 div.sk-parallel-item::after {content: \"\";width: 100%;border-bottom: 1px solid gray;flex-grow: 1;}#sk-container-id-3 div.sk-label:hover label.sk-toggleable__label {background-color: #d4ebff;}#sk-container-id-3 div.sk-serial::before {content: \"\";position: absolute;border-left: 1px solid gray;box-sizing: border-box;top: 0;bottom: 0;left: 50%;z-index: 0;}#sk-container-id-3 div.sk-serial {display: flex;flex-direction: column;align-items: center;background-color: white;padding-right: 0.2em;padding-left: 0.2em;position: relative;}#sk-container-id-3 div.sk-item {position: relative;z-index: 1;}#sk-container-id-3 div.sk-parallel {display: flex;align-items: stretch;justify-content: center;background-color: white;position: relative;}#sk-container-id-3 div.sk-item::before, #sk-container-id-3 div.sk-parallel-item::before {content: \"\";position: absolute;border-left: 1px solid gray;box-sizing: border-box;top: 0;bottom: 0;left: 50%;z-index: -1;}#sk-container-id-3 div.sk-parallel-item {display: flex;flex-direction: column;z-index: 1;position: relative;background-color: white;}#sk-container-id-3 div.sk-parallel-item:first-child::after {align-self: flex-end;width: 50%;}#sk-container-id-3 div.sk-parallel-item:last-child::after {align-self: flex-start;width: 50%;}#sk-container-id-3 div.sk-parallel-item:only-child::after {width: 0;}#sk-container-id-3 div.sk-dashed-wrapped {border: 1px dashed gray;margin: 0 0.4em 0.5em 0.4em;box-sizing: border-box;padding-bottom: 0.4em;background-color: white;}#sk-container-id-3 div.sk-label label {font-family: monospace;font-weight: bold;display: inline-block;line-height: 1.2em;}#sk-container-id-3 div.sk-label-container {text-align: center;}#sk-container-id-3 div.sk-container {/* jupyter's `normalize.less` sets `[hidden] { display: none; }` but bootstrap.min.css set `[hidden] { display: none !important; }` so we also need the `!important` here to be able to override the default hidden behavior on the sphinx rendered scikit-learn.org. See: https://github.com/scikit-learn/scikit-learn/issues/21755 */display: inline-block !important;position: relative;}#sk-container-id-3 div.sk-text-repr-fallback {display: none;}</style><div id=\"sk-container-id-3\" class=\"sk-top-container\"><div class=\"sk-text-repr-fallback\"><pre>LogisticRegression()</pre><b>In a Jupyter environment, please rerun this cell to show the HTML representation or trust the notebook. <br />On GitHub, the HTML representation is unable to render, please try loading this page with nbviewer.org.</b></div><div class=\"sk-container\" hidden><div class=\"sk-item\"><div class=\"sk-estimator sk-toggleable\"><input class=\"sk-toggleable__control sk-hidden--visually\" id=\"sk-estimator-id-5\" type=\"checkbox\" checked><label for=\"sk-estimator-id-5\" class=\"sk-toggleable__label sk-toggleable__label-arrow\">LogisticRegression</label><div class=\"sk-toggleable__content\"><pre>LogisticRegression()</pre></div></div></div></div></div>"
      ],
      "text/plain": [
       "LogisticRegression()"
      ]
     },
     "execution_count": 30,
     "metadata": {},
     "output_type": "execute_result"
    }
   ],
   "source": [
    "from sklearn.linear_model import LogisticRegression\n",
    "model=LogisticRegression()\n",
    "model.fit(x_train,y_train)"
   ]
  },
  {
   "cell_type": "code",
   "execution_count": 31,
   "id": "4602ae0d",
   "metadata": {
    "execution": {
     "iopub.execute_input": "2024-05-14T10:56:03.899906Z",
     "iopub.status.busy": "2024-05-14T10:56:03.899356Z",
     "iopub.status.idle": "2024-05-14T10:56:03.908431Z",
     "shell.execute_reply": "2024-05-14T10:56:03.907016Z"
    },
    "papermill": {
     "duration": 0.032584,
     "end_time": "2024-05-14T10:56:03.911121",
     "exception": false,
     "start_time": "2024-05-14T10:56:03.878537",
     "status": "completed"
    },
    "tags": []
   },
   "outputs": [],
   "source": [
    "y_pred3=model.predict(x_test)"
   ]
  },
  {
   "cell_type": "code",
   "execution_count": 32,
   "id": "672c85ba",
   "metadata": {
    "execution": {
     "iopub.execute_input": "2024-05-14T10:56:03.952281Z",
     "iopub.status.busy": "2024-05-14T10:56:03.951840Z",
     "iopub.status.idle": "2024-05-14T10:56:03.960462Z",
     "shell.execute_reply": "2024-05-14T10:56:03.959133Z"
    },
    "papermill": {
     "duration": 0.032282,
     "end_time": "2024-05-14T10:56:03.963348",
     "exception": false,
     "start_time": "2024-05-14T10:56:03.931066",
     "status": "completed"
    },
    "tags": []
   },
   "outputs": [
    {
     "data": {
      "text/plain": [
       "0.7115384615384616"
      ]
     },
     "execution_count": 32,
     "metadata": {},
     "output_type": "execute_result"
    }
   ],
   "source": [
    "from sklearn.metrics import accuracy_score\n",
    "accuracy_score(y_pred3,y_test)"
   ]
  },
  {
   "cell_type": "markdown",
   "id": "39123770",
   "metadata": {
    "papermill": {
     "duration": 0.018882,
     "end_time": "2024-05-14T10:56:04.001378",
     "exception": false,
     "start_time": "2024-05-14T10:56:03.982496",
     "status": "completed"
    },
    "tags": []
   },
   "source": [
    "### Decision tree"
   ]
  },
  {
   "cell_type": "code",
   "execution_count": 33,
   "id": "fafe10c3",
   "metadata": {
    "execution": {
     "iopub.execute_input": "2024-05-14T10:56:04.043966Z",
     "iopub.status.busy": "2024-05-14T10:56:04.043480Z",
     "iopub.status.idle": "2024-05-14T10:56:04.088228Z",
     "shell.execute_reply": "2024-05-14T10:56:04.086892Z"
    },
    "papermill": {
     "duration": 0.070889,
     "end_time": "2024-05-14T10:56:04.091143",
     "exception": false,
     "start_time": "2024-05-14T10:56:04.020254",
     "status": "completed"
    },
    "tags": []
   },
   "outputs": [],
   "source": [
    "from sklearn.tree import DecisionTreeClassifier, export_graphviz\n",
    "from sklearn.model_selection import GridSearchCV"
   ]
  },
  {
   "cell_type": "code",
   "execution_count": 34,
   "id": "9c810a50",
   "metadata": {
    "execution": {
     "iopub.execute_input": "2024-05-14T10:56:04.135168Z",
     "iopub.status.busy": "2024-05-14T10:56:04.134719Z",
     "iopub.status.idle": "2024-05-14T10:56:04.141560Z",
     "shell.execute_reply": "2024-05-14T10:56:04.140052Z"
    },
    "papermill": {
     "duration": 0.031403,
     "end_time": "2024-05-14T10:56:04.143984",
     "exception": false,
     "start_time": "2024-05-14T10:56:04.112581",
     "status": "completed"
    },
    "tags": []
   },
   "outputs": [],
   "source": [
    "dt=DecisionTreeClassifier()\n",
    "param = {\n",
    "    'max_depth': [None, 5, 10, 15],              # Maximum depth of the tree\n",
    "    'min_samples_split': [2, 5, 10],              # Minimum number of samples required to split an internal node\n",
    "    'min_samples_leaf': [1, 2, 4],                # Minimum number of samples required to be at a leaf node\n",
    "    'max_features': [None, 'sqrt', 'log2'],    # Number of features to consider when looking for the best split\n",
    "    'criterion': ['gini', 'entropy']             # Function to measure the quality of a split\n",
    "}\n",
    "gt=GridSearchCV(dt,param,cv=5,scoring='accuracy')"
   ]
  },
  {
   "cell_type": "code",
   "execution_count": 35,
   "id": "1f09dd00",
   "metadata": {
    "execution": {
     "iopub.execute_input": "2024-05-14T10:56:04.185073Z",
     "iopub.status.busy": "2024-05-14T10:56:04.184561Z",
     "iopub.status.idle": "2024-05-14T10:56:11.082298Z",
     "shell.execute_reply": "2024-05-14T10:56:11.080816Z"
    },
    "papermill": {
     "duration": 6.92149,
     "end_time": "2024-05-14T10:56:11.085260",
     "exception": false,
     "start_time": "2024-05-14T10:56:04.163770",
     "status": "completed"
    },
    "tags": []
   },
   "outputs": [
    {
     "data": {
      "text/html": [
       "<style>#sk-container-id-4 {color: black;background-color: white;}#sk-container-id-4 pre{padding: 0;}#sk-container-id-4 div.sk-toggleable {background-color: white;}#sk-container-id-4 label.sk-toggleable__label {cursor: pointer;display: block;width: 100%;margin-bottom: 0;padding: 0.3em;box-sizing: border-box;text-align: center;}#sk-container-id-4 label.sk-toggleable__label-arrow:before {content: \"▸\";float: left;margin-right: 0.25em;color: #696969;}#sk-container-id-4 label.sk-toggleable__label-arrow:hover:before {color: black;}#sk-container-id-4 div.sk-estimator:hover label.sk-toggleable__label-arrow:before {color: black;}#sk-container-id-4 div.sk-toggleable__content {max-height: 0;max-width: 0;overflow: hidden;text-align: left;background-color: #f0f8ff;}#sk-container-id-4 div.sk-toggleable__content pre {margin: 0.2em;color: black;border-radius: 0.25em;background-color: #f0f8ff;}#sk-container-id-4 input.sk-toggleable__control:checked~div.sk-toggleable__content {max-height: 200px;max-width: 100%;overflow: auto;}#sk-container-id-4 input.sk-toggleable__control:checked~label.sk-toggleable__label-arrow:before {content: \"▾\";}#sk-container-id-4 div.sk-estimator input.sk-toggleable__control:checked~label.sk-toggleable__label {background-color: #d4ebff;}#sk-container-id-4 div.sk-label input.sk-toggleable__control:checked~label.sk-toggleable__label {background-color: #d4ebff;}#sk-container-id-4 input.sk-hidden--visually {border: 0;clip: rect(1px 1px 1px 1px);clip: rect(1px, 1px, 1px, 1px);height: 1px;margin: -1px;overflow: hidden;padding: 0;position: absolute;width: 1px;}#sk-container-id-4 div.sk-estimator {font-family: monospace;background-color: #f0f8ff;border: 1px dotted black;border-radius: 0.25em;box-sizing: border-box;margin-bottom: 0.5em;}#sk-container-id-4 div.sk-estimator:hover {background-color: #d4ebff;}#sk-container-id-4 div.sk-parallel-item::after {content: \"\";width: 100%;border-bottom: 1px solid gray;flex-grow: 1;}#sk-container-id-4 div.sk-label:hover label.sk-toggleable__label {background-color: #d4ebff;}#sk-container-id-4 div.sk-serial::before {content: \"\";position: absolute;border-left: 1px solid gray;box-sizing: border-box;top: 0;bottom: 0;left: 50%;z-index: 0;}#sk-container-id-4 div.sk-serial {display: flex;flex-direction: column;align-items: center;background-color: white;padding-right: 0.2em;padding-left: 0.2em;position: relative;}#sk-container-id-4 div.sk-item {position: relative;z-index: 1;}#sk-container-id-4 div.sk-parallel {display: flex;align-items: stretch;justify-content: center;background-color: white;position: relative;}#sk-container-id-4 div.sk-item::before, #sk-container-id-4 div.sk-parallel-item::before {content: \"\";position: absolute;border-left: 1px solid gray;box-sizing: border-box;top: 0;bottom: 0;left: 50%;z-index: -1;}#sk-container-id-4 div.sk-parallel-item {display: flex;flex-direction: column;z-index: 1;position: relative;background-color: white;}#sk-container-id-4 div.sk-parallel-item:first-child::after {align-self: flex-end;width: 50%;}#sk-container-id-4 div.sk-parallel-item:last-child::after {align-self: flex-start;width: 50%;}#sk-container-id-4 div.sk-parallel-item:only-child::after {width: 0;}#sk-container-id-4 div.sk-dashed-wrapped {border: 1px dashed gray;margin: 0 0.4em 0.5em 0.4em;box-sizing: border-box;padding-bottom: 0.4em;background-color: white;}#sk-container-id-4 div.sk-label label {font-family: monospace;font-weight: bold;display: inline-block;line-height: 1.2em;}#sk-container-id-4 div.sk-label-container {text-align: center;}#sk-container-id-4 div.sk-container {/* jupyter's `normalize.less` sets `[hidden] { display: none; }` but bootstrap.min.css set `[hidden] { display: none !important; }` so we also need the `!important` here to be able to override the default hidden behavior on the sphinx rendered scikit-learn.org. See: https://github.com/scikit-learn/scikit-learn/issues/21755 */display: inline-block !important;position: relative;}#sk-container-id-4 div.sk-text-repr-fallback {display: none;}</style><div id=\"sk-container-id-4\" class=\"sk-top-container\"><div class=\"sk-text-repr-fallback\"><pre>GridSearchCV(cv=5, estimator=DecisionTreeClassifier(),\n",
       "             param_grid={&#x27;criterion&#x27;: [&#x27;gini&#x27;, &#x27;entropy&#x27;],\n",
       "                         &#x27;max_depth&#x27;: [None, 5, 10, 15],\n",
       "                         &#x27;max_features&#x27;: [None, &#x27;sqrt&#x27;, &#x27;log2&#x27;],\n",
       "                         &#x27;min_samples_leaf&#x27;: [1, 2, 4],\n",
       "                         &#x27;min_samples_split&#x27;: [2, 5, 10]},\n",
       "             scoring=&#x27;accuracy&#x27;)</pre><b>In a Jupyter environment, please rerun this cell to show the HTML representation or trust the notebook. <br />On GitHub, the HTML representation is unable to render, please try loading this page with nbviewer.org.</b></div><div class=\"sk-container\" hidden><div class=\"sk-item sk-dashed-wrapped\"><div class=\"sk-label-container\"><div class=\"sk-label sk-toggleable\"><input class=\"sk-toggleable__control sk-hidden--visually\" id=\"sk-estimator-id-6\" type=\"checkbox\" ><label for=\"sk-estimator-id-6\" class=\"sk-toggleable__label sk-toggleable__label-arrow\">GridSearchCV</label><div class=\"sk-toggleable__content\"><pre>GridSearchCV(cv=5, estimator=DecisionTreeClassifier(),\n",
       "             param_grid={&#x27;criterion&#x27;: [&#x27;gini&#x27;, &#x27;entropy&#x27;],\n",
       "                         &#x27;max_depth&#x27;: [None, 5, 10, 15],\n",
       "                         &#x27;max_features&#x27;: [None, &#x27;sqrt&#x27;, &#x27;log2&#x27;],\n",
       "                         &#x27;min_samples_leaf&#x27;: [1, 2, 4],\n",
       "                         &#x27;min_samples_split&#x27;: [2, 5, 10]},\n",
       "             scoring=&#x27;accuracy&#x27;)</pre></div></div></div><div class=\"sk-parallel\"><div class=\"sk-parallel-item\"><div class=\"sk-item\"><div class=\"sk-label-container\"><div class=\"sk-label sk-toggleable\"><input class=\"sk-toggleable__control sk-hidden--visually\" id=\"sk-estimator-id-7\" type=\"checkbox\" ><label for=\"sk-estimator-id-7\" class=\"sk-toggleable__label sk-toggleable__label-arrow\">estimator: DecisionTreeClassifier</label><div class=\"sk-toggleable__content\"><pre>DecisionTreeClassifier()</pre></div></div></div><div class=\"sk-serial\"><div class=\"sk-item\"><div class=\"sk-estimator sk-toggleable\"><input class=\"sk-toggleable__control sk-hidden--visually\" id=\"sk-estimator-id-8\" type=\"checkbox\" ><label for=\"sk-estimator-id-8\" class=\"sk-toggleable__label sk-toggleable__label-arrow\">DecisionTreeClassifier</label><div class=\"sk-toggleable__content\"><pre>DecisionTreeClassifier()</pre></div></div></div></div></div></div></div></div></div></div>"
      ],
      "text/plain": [
       "GridSearchCV(cv=5, estimator=DecisionTreeClassifier(),\n",
       "             param_grid={'criterion': ['gini', 'entropy'],\n",
       "                         'max_depth': [None, 5, 10, 15],\n",
       "                         'max_features': [None, 'sqrt', 'log2'],\n",
       "                         'min_samples_leaf': [1, 2, 4],\n",
       "                         'min_samples_split': [2, 5, 10]},\n",
       "             scoring='accuracy')"
      ]
     },
     "execution_count": 35,
     "metadata": {},
     "output_type": "execute_result"
    }
   ],
   "source": [
    "gt.fit(x_train,y_train)"
   ]
  },
  {
   "cell_type": "code",
   "execution_count": 36,
   "id": "b930772b",
   "metadata": {
    "execution": {
     "iopub.execute_input": "2024-05-14T10:56:11.129449Z",
     "iopub.status.busy": "2024-05-14T10:56:11.128979Z",
     "iopub.status.idle": "2024-05-14T10:56:11.137197Z",
     "shell.execute_reply": "2024-05-14T10:56:11.135540Z"
    },
    "papermill": {
     "duration": 0.034275,
     "end_time": "2024-05-14T10:56:11.140015",
     "exception": false,
     "start_time": "2024-05-14T10:56:11.105740",
     "status": "completed"
    },
    "tags": []
   },
   "outputs": [
    {
     "data": {
      "text/plain": [
       "{'criterion': 'entropy',\n",
       " 'max_depth': None,\n",
       " 'max_features': 'log2',\n",
       " 'min_samples_leaf': 1,\n",
       " 'min_samples_split': 2}"
      ]
     },
     "execution_count": 36,
     "metadata": {},
     "output_type": "execute_result"
    }
   ],
   "source": [
    "para=gt.best_params_\n",
    "para"
   ]
  },
  {
   "cell_type": "code",
   "execution_count": 37,
   "id": "1340b8a9",
   "metadata": {
    "execution": {
     "iopub.execute_input": "2024-05-14T10:56:11.185821Z",
     "iopub.status.busy": "2024-05-14T10:56:11.185321Z",
     "iopub.status.idle": "2024-05-14T10:56:11.202739Z",
     "shell.execute_reply": "2024-05-14T10:56:11.201205Z"
    },
    "papermill": {
     "duration": 0.044251,
     "end_time": "2024-05-14T10:56:11.206013",
     "exception": false,
     "start_time": "2024-05-14T10:56:11.161762",
     "status": "completed"
    },
    "tags": []
   },
   "outputs": [
    {
     "data": {
      "text/html": [
       "<style>#sk-container-id-5 {color: black;background-color: white;}#sk-container-id-5 pre{padding: 0;}#sk-container-id-5 div.sk-toggleable {background-color: white;}#sk-container-id-5 label.sk-toggleable__label {cursor: pointer;display: block;width: 100%;margin-bottom: 0;padding: 0.3em;box-sizing: border-box;text-align: center;}#sk-container-id-5 label.sk-toggleable__label-arrow:before {content: \"▸\";float: left;margin-right: 0.25em;color: #696969;}#sk-container-id-5 label.sk-toggleable__label-arrow:hover:before {color: black;}#sk-container-id-5 div.sk-estimator:hover label.sk-toggleable__label-arrow:before {color: black;}#sk-container-id-5 div.sk-toggleable__content {max-height: 0;max-width: 0;overflow: hidden;text-align: left;background-color: #f0f8ff;}#sk-container-id-5 div.sk-toggleable__content pre {margin: 0.2em;color: black;border-radius: 0.25em;background-color: #f0f8ff;}#sk-container-id-5 input.sk-toggleable__control:checked~div.sk-toggleable__content {max-height: 200px;max-width: 100%;overflow: auto;}#sk-container-id-5 input.sk-toggleable__control:checked~label.sk-toggleable__label-arrow:before {content: \"▾\";}#sk-container-id-5 div.sk-estimator input.sk-toggleable__control:checked~label.sk-toggleable__label {background-color: #d4ebff;}#sk-container-id-5 div.sk-label input.sk-toggleable__control:checked~label.sk-toggleable__label {background-color: #d4ebff;}#sk-container-id-5 input.sk-hidden--visually {border: 0;clip: rect(1px 1px 1px 1px);clip: rect(1px, 1px, 1px, 1px);height: 1px;margin: -1px;overflow: hidden;padding: 0;position: absolute;width: 1px;}#sk-container-id-5 div.sk-estimator {font-family: monospace;background-color: #f0f8ff;border: 1px dotted black;border-radius: 0.25em;box-sizing: border-box;margin-bottom: 0.5em;}#sk-container-id-5 div.sk-estimator:hover {background-color: #d4ebff;}#sk-container-id-5 div.sk-parallel-item::after {content: \"\";width: 100%;border-bottom: 1px solid gray;flex-grow: 1;}#sk-container-id-5 div.sk-label:hover label.sk-toggleable__label {background-color: #d4ebff;}#sk-container-id-5 div.sk-serial::before {content: \"\";position: absolute;border-left: 1px solid gray;box-sizing: border-box;top: 0;bottom: 0;left: 50%;z-index: 0;}#sk-container-id-5 div.sk-serial {display: flex;flex-direction: column;align-items: center;background-color: white;padding-right: 0.2em;padding-left: 0.2em;position: relative;}#sk-container-id-5 div.sk-item {position: relative;z-index: 1;}#sk-container-id-5 div.sk-parallel {display: flex;align-items: stretch;justify-content: center;background-color: white;position: relative;}#sk-container-id-5 div.sk-item::before, #sk-container-id-5 div.sk-parallel-item::before {content: \"\";position: absolute;border-left: 1px solid gray;box-sizing: border-box;top: 0;bottom: 0;left: 50%;z-index: -1;}#sk-container-id-5 div.sk-parallel-item {display: flex;flex-direction: column;z-index: 1;position: relative;background-color: white;}#sk-container-id-5 div.sk-parallel-item:first-child::after {align-self: flex-end;width: 50%;}#sk-container-id-5 div.sk-parallel-item:last-child::after {align-self: flex-start;width: 50%;}#sk-container-id-5 div.sk-parallel-item:only-child::after {width: 0;}#sk-container-id-5 div.sk-dashed-wrapped {border: 1px dashed gray;margin: 0 0.4em 0.5em 0.4em;box-sizing: border-box;padding-bottom: 0.4em;background-color: white;}#sk-container-id-5 div.sk-label label {font-family: monospace;font-weight: bold;display: inline-block;line-height: 1.2em;}#sk-container-id-5 div.sk-label-container {text-align: center;}#sk-container-id-5 div.sk-container {/* jupyter's `normalize.less` sets `[hidden] { display: none; }` but bootstrap.min.css set `[hidden] { display: none !important; }` so we also need the `!important` here to be able to override the default hidden behavior on the sphinx rendered scikit-learn.org. See: https://github.com/scikit-learn/scikit-learn/issues/21755 */display: inline-block !important;position: relative;}#sk-container-id-5 div.sk-text-repr-fallback {display: none;}</style><div id=\"sk-container-id-5\" class=\"sk-top-container\"><div class=\"sk-text-repr-fallback\"><pre>DecisionTreeClassifier(criterion=&#x27;entropy&#x27;, max_features=&#x27;log2&#x27;)</pre><b>In a Jupyter environment, please rerun this cell to show the HTML representation or trust the notebook. <br />On GitHub, the HTML representation is unable to render, please try loading this page with nbviewer.org.</b></div><div class=\"sk-container\" hidden><div class=\"sk-item\"><div class=\"sk-estimator sk-toggleable\"><input class=\"sk-toggleable__control sk-hidden--visually\" id=\"sk-estimator-id-9\" type=\"checkbox\" checked><label for=\"sk-estimator-id-9\" class=\"sk-toggleable__label sk-toggleable__label-arrow\">DecisionTreeClassifier</label><div class=\"sk-toggleable__content\"><pre>DecisionTreeClassifier(criterion=&#x27;entropy&#x27;, max_features=&#x27;log2&#x27;)</pre></div></div></div></div></div>"
      ],
      "text/plain": [
       "DecisionTreeClassifier(criterion='entropy', max_features='log2')"
      ]
     },
     "execution_count": 37,
     "metadata": {},
     "output_type": "execute_result"
    }
   ],
   "source": [
    "dt1=DecisionTreeClassifier(**para)\n",
    "dt1.fit(x_train,y_train)"
   ]
  },
  {
   "cell_type": "code",
   "execution_count": 38,
   "id": "44a093e4",
   "metadata": {
    "execution": {
     "iopub.execute_input": "2024-05-14T10:56:11.249318Z",
     "iopub.status.busy": "2024-05-14T10:56:11.247897Z",
     "iopub.status.idle": "2024-05-14T10:56:11.257586Z",
     "shell.execute_reply": "2024-05-14T10:56:11.256281Z"
    },
    "papermill": {
     "duration": 0.034154,
     "end_time": "2024-05-14T10:56:11.260494",
     "exception": false,
     "start_time": "2024-05-14T10:56:11.226340",
     "status": "completed"
    },
    "tags": []
   },
   "outputs": [],
   "source": [
    "y_pred4=dt1.predict(x_test)"
   ]
  },
  {
   "cell_type": "code",
   "execution_count": 39,
   "id": "df27eb07",
   "metadata": {
    "execution": {
     "iopub.execute_input": "2024-05-14T10:56:11.302897Z",
     "iopub.status.busy": "2024-05-14T10:56:11.302391Z",
     "iopub.status.idle": "2024-05-14T10:56:11.311131Z",
     "shell.execute_reply": "2024-05-14T10:56:11.309990Z"
    },
    "papermill": {
     "duration": 0.032926,
     "end_time": "2024-05-14T10:56:11.313572",
     "exception": false,
     "start_time": "2024-05-14T10:56:11.280646",
     "status": "completed"
    },
    "tags": []
   },
   "outputs": [
    {
     "data": {
      "text/plain": [
       "0.7756410256410257"
      ]
     },
     "execution_count": 39,
     "metadata": {},
     "output_type": "execute_result"
    }
   ],
   "source": [
    "accuracy_score(y_test,y_pred4)"
   ]
  },
  {
   "cell_type": "code",
   "execution_count": null,
   "id": "14e8756c",
   "metadata": {
    "papermill": {
     "duration": 0.021132,
     "end_time": "2024-05-14T10:56:11.354630",
     "exception": false,
     "start_time": "2024-05-14T10:56:11.333498",
     "status": "completed"
    },
    "tags": []
   },
   "outputs": [],
   "source": []
  },
  {
   "cell_type": "markdown",
   "id": "825b2294",
   "metadata": {
    "papermill": {
     "duration": 0.019954,
     "end_time": "2024-05-14T10:56:11.394818",
     "exception": false,
     "start_time": "2024-05-14T10:56:11.374864",
     "status": "completed"
    },
    "tags": []
   },
   "source": [
    "## Random Forest "
   ]
  },
  {
   "cell_type": "code",
   "execution_count": 40,
   "id": "eba2fc93",
   "metadata": {
    "execution": {
     "iopub.execute_input": "2024-05-14T10:56:11.437689Z",
     "iopub.status.busy": "2024-05-14T10:56:11.436788Z",
     "iopub.status.idle": "2024-05-14T10:56:11.509186Z",
     "shell.execute_reply": "2024-05-14T10:56:11.507952Z"
    },
    "papermill": {
     "duration": 0.097676,
     "end_time": "2024-05-14T10:56:11.512262",
     "exception": false,
     "start_time": "2024-05-14T10:56:11.414586",
     "status": "completed"
    },
    "tags": []
   },
   "outputs": [],
   "source": [
    "from sklearn.ensemble import RandomForestClassifier\n",
    "rf=RandomForestClassifier()\n",
    "param_grid = {\n",
    "    'n_estimators': [100, 200, 300],            # Number of trees in the forest\n",
    "    'max_depth': [None, 5, 10, 15],              # Maximum depth of the trees\n",
    "    'min_samples_split': [2, 5, 10],             # Minimum number of samples required to split an internal node\n",
    "    'min_samples_leaf': [1, 2, 4],               # Minimum number of samples required to be at a leaf node\n",
    "    'max_features': ['auto', 'sqrt', 'log2'],    # Number of features to consider when looking for the best split\n",
    "    'criterion': ['gini', 'entropy']             # Function to measure the quality of a split\n",
    "}\n",
    "g2=GridSearchCV(rf,param_grid,cv=2)"
   ]
  },
  {
   "cell_type": "code",
   "execution_count": 41,
   "id": "3a66e394",
   "metadata": {
    "execution": {
     "iopub.execute_input": "2024-05-14T10:56:11.558050Z",
     "iopub.status.busy": "2024-05-14T10:56:11.557181Z",
     "iopub.status.idle": "2024-05-14T10:56:11.562468Z",
     "shell.execute_reply": "2024-05-14T10:56:11.561204Z"
    },
    "papermill": {
     "duration": 0.032411,
     "end_time": "2024-05-14T10:56:11.565013",
     "exception": false,
     "start_time": "2024-05-14T10:56:11.532602",
     "status": "completed"
    },
    "tags": []
   },
   "outputs": [],
   "source": [
    "# g2.fit(x_train,y_train)"
   ]
  },
  {
   "cell_type": "code",
   "execution_count": 42,
   "id": "2f11887d",
   "metadata": {
    "execution": {
     "iopub.execute_input": "2024-05-14T10:56:11.608172Z",
     "iopub.status.busy": "2024-05-14T10:56:11.607131Z",
     "iopub.status.idle": "2024-05-14T10:56:11.612543Z",
     "shell.execute_reply": "2024-05-14T10:56:11.611201Z"
    },
    "papermill": {
     "duration": 0.030056,
     "end_time": "2024-05-14T10:56:11.615576",
     "exception": false,
     "start_time": "2024-05-14T10:56:11.585520",
     "status": "completed"
    },
    "tags": []
   },
   "outputs": [],
   "source": [
    "# para2=g2.best_params_\n",
    "# para2"
   ]
  },
  {
   "cell_type": "code",
   "execution_count": 43,
   "id": "445343ff",
   "metadata": {
    "execution": {
     "iopub.execute_input": "2024-05-14T10:56:11.661093Z",
     "iopub.status.busy": "2024-05-14T10:56:11.660269Z",
     "iopub.status.idle": "2024-05-14T10:56:11.665439Z",
     "shell.execute_reply": "2024-05-14T10:56:11.664418Z"
    },
    "papermill": {
     "duration": 0.032164,
     "end_time": "2024-05-14T10:56:11.668016",
     "exception": false,
     "start_time": "2024-05-14T10:56:11.635852",
     "status": "completed"
    },
    "tags": []
   },
   "outputs": [],
   "source": [
    "# rf1=RandomForestClassifier(**para2)"
   ]
  },
  {
   "cell_type": "code",
   "execution_count": 44,
   "id": "2f9003e0",
   "metadata": {
    "execution": {
     "iopub.execute_input": "2024-05-14T10:56:11.712722Z",
     "iopub.status.busy": "2024-05-14T10:56:11.711955Z",
     "iopub.status.idle": "2024-05-14T10:56:11.716889Z",
     "shell.execute_reply": "2024-05-14T10:56:11.715912Z"
    },
    "papermill": {
     "duration": 0.030728,
     "end_time": "2024-05-14T10:56:11.719437",
     "exception": false,
     "start_time": "2024-05-14T10:56:11.688709",
     "status": "completed"
    },
    "tags": []
   },
   "outputs": [],
   "source": [
    "# rf1.fit(x_train,y_train)"
   ]
  },
  {
   "cell_type": "code",
   "execution_count": 45,
   "id": "f9993236",
   "metadata": {
    "execution": {
     "iopub.execute_input": "2024-05-14T10:56:11.762223Z",
     "iopub.status.busy": "2024-05-14T10:56:11.761767Z",
     "iopub.status.idle": "2024-05-14T10:56:22.417433Z",
     "shell.execute_reply": "2024-05-14T10:56:22.415722Z"
    },
    "papermill": {
     "duration": 10.68061,
     "end_time": "2024-05-14T10:56:22.420881",
     "exception": false,
     "start_time": "2024-05-14T10:56:11.740271",
     "status": "completed"
    },
    "tags": []
   },
   "outputs": [
    {
     "data": {
      "text/html": [
       "<style>#sk-container-id-6 {color: black;background-color: white;}#sk-container-id-6 pre{padding: 0;}#sk-container-id-6 div.sk-toggleable {background-color: white;}#sk-container-id-6 label.sk-toggleable__label {cursor: pointer;display: block;width: 100%;margin-bottom: 0;padding: 0.3em;box-sizing: border-box;text-align: center;}#sk-container-id-6 label.sk-toggleable__label-arrow:before {content: \"▸\";float: left;margin-right: 0.25em;color: #696969;}#sk-container-id-6 label.sk-toggleable__label-arrow:hover:before {color: black;}#sk-container-id-6 div.sk-estimator:hover label.sk-toggleable__label-arrow:before {color: black;}#sk-container-id-6 div.sk-toggleable__content {max-height: 0;max-width: 0;overflow: hidden;text-align: left;background-color: #f0f8ff;}#sk-container-id-6 div.sk-toggleable__content pre {margin: 0.2em;color: black;border-radius: 0.25em;background-color: #f0f8ff;}#sk-container-id-6 input.sk-toggleable__control:checked~div.sk-toggleable__content {max-height: 200px;max-width: 100%;overflow: auto;}#sk-container-id-6 input.sk-toggleable__control:checked~label.sk-toggleable__label-arrow:before {content: \"▾\";}#sk-container-id-6 div.sk-estimator input.sk-toggleable__control:checked~label.sk-toggleable__label {background-color: #d4ebff;}#sk-container-id-6 div.sk-label input.sk-toggleable__control:checked~label.sk-toggleable__label {background-color: #d4ebff;}#sk-container-id-6 input.sk-hidden--visually {border: 0;clip: rect(1px 1px 1px 1px);clip: rect(1px, 1px, 1px, 1px);height: 1px;margin: -1px;overflow: hidden;padding: 0;position: absolute;width: 1px;}#sk-container-id-6 div.sk-estimator {font-family: monospace;background-color: #f0f8ff;border: 1px dotted black;border-radius: 0.25em;box-sizing: border-box;margin-bottom: 0.5em;}#sk-container-id-6 div.sk-estimator:hover {background-color: #d4ebff;}#sk-container-id-6 div.sk-parallel-item::after {content: \"\";width: 100%;border-bottom: 1px solid gray;flex-grow: 1;}#sk-container-id-6 div.sk-label:hover label.sk-toggleable__label {background-color: #d4ebff;}#sk-container-id-6 div.sk-serial::before {content: \"\";position: absolute;border-left: 1px solid gray;box-sizing: border-box;top: 0;bottom: 0;left: 50%;z-index: 0;}#sk-container-id-6 div.sk-serial {display: flex;flex-direction: column;align-items: center;background-color: white;padding-right: 0.2em;padding-left: 0.2em;position: relative;}#sk-container-id-6 div.sk-item {position: relative;z-index: 1;}#sk-container-id-6 div.sk-parallel {display: flex;align-items: stretch;justify-content: center;background-color: white;position: relative;}#sk-container-id-6 div.sk-item::before, #sk-container-id-6 div.sk-parallel-item::before {content: \"\";position: absolute;border-left: 1px solid gray;box-sizing: border-box;top: 0;bottom: 0;left: 50%;z-index: -1;}#sk-container-id-6 div.sk-parallel-item {display: flex;flex-direction: column;z-index: 1;position: relative;background-color: white;}#sk-container-id-6 div.sk-parallel-item:first-child::after {align-self: flex-end;width: 50%;}#sk-container-id-6 div.sk-parallel-item:last-child::after {align-self: flex-start;width: 50%;}#sk-container-id-6 div.sk-parallel-item:only-child::after {width: 0;}#sk-container-id-6 div.sk-dashed-wrapped {border: 1px dashed gray;margin: 0 0.4em 0.5em 0.4em;box-sizing: border-box;padding-bottom: 0.4em;background-color: white;}#sk-container-id-6 div.sk-label label {font-family: monospace;font-weight: bold;display: inline-block;line-height: 1.2em;}#sk-container-id-6 div.sk-label-container {text-align: center;}#sk-container-id-6 div.sk-container {/* jupyter's `normalize.less` sets `[hidden] { display: none; }` but bootstrap.min.css set `[hidden] { display: none !important; }` so we also need the `!important` here to be able to override the default hidden behavior on the sphinx rendered scikit-learn.org. See: https://github.com/scikit-learn/scikit-learn/issues/21755 */display: inline-block !important;position: relative;}#sk-container-id-6 div.sk-text-repr-fallback {display: none;}</style><div id=\"sk-container-id-6\" class=\"sk-top-container\"><div class=\"sk-text-repr-fallback\"><pre>AdaBoostClassifier()</pre><b>In a Jupyter environment, please rerun this cell to show the HTML representation or trust the notebook. <br />On GitHub, the HTML representation is unable to render, please try loading this page with nbviewer.org.</b></div><div class=\"sk-container\" hidden><div class=\"sk-item\"><div class=\"sk-estimator sk-toggleable\"><input class=\"sk-toggleable__control sk-hidden--visually\" id=\"sk-estimator-id-10\" type=\"checkbox\" checked><label for=\"sk-estimator-id-10\" class=\"sk-toggleable__label sk-toggleable__label-arrow\">AdaBoostClassifier</label><div class=\"sk-toggleable__content\"><pre>AdaBoostClassifier()</pre></div></div></div></div></div>"
      ],
      "text/plain": [
       "AdaBoostClassifier()"
      ]
     },
     "execution_count": 45,
     "metadata": {},
     "output_type": "execute_result"
    }
   ],
   "source": [
    "from sklearn.ensemble import AdaBoostClassifier\n",
    "from sklearn.model_selection import GridSearchCV\n",
    "\n",
    "param_grid = {\n",
    "    'n_estimators': [50, 100, 200],        \n",
    "    'learning_rate': [0.1, 0.5, 1.0] }      \n",
    "\n",
    "ada_classifier = AdaBoostClassifier()\n",
    "\n",
    "grid_search = GridSearchCV(ada_classifier, param_grid, cv=5, scoring='accuracy')\n",
    "\n",
    "grid_search.fit(x_train, y_train)  \n",
    "\n",
    "best_params = grid_search.best_params_\n",
    "\n",
    "best_ada_classifier = AdaBoostClassifier(**best_params)\n",
    "\n",
    "best_ada_classifier.fit(x_train, y_train) "
   ]
  },
  {
   "cell_type": "code",
   "execution_count": 46,
   "id": "cf2acab2",
   "metadata": {
    "execution": {
     "iopub.execute_input": "2024-05-14T10:56:22.463607Z",
     "iopub.status.busy": "2024-05-14T10:56:22.463159Z",
     "iopub.status.idle": "2024-05-14T10:56:22.481737Z",
     "shell.execute_reply": "2024-05-14T10:56:22.480173Z"
    },
    "papermill": {
     "duration": 0.043749,
     "end_time": "2024-05-14T10:56:22.484989",
     "exception": false,
     "start_time": "2024-05-14T10:56:22.441240",
     "status": "completed"
    },
    "tags": []
   },
   "outputs": [],
   "source": [
    "y_pred6=best_ada_classifier.predict(x_test)"
   ]
  },
  {
   "cell_type": "code",
   "execution_count": 47,
   "id": "f7360433",
   "metadata": {
    "execution": {
     "iopub.execute_input": "2024-05-14T10:56:22.528561Z",
     "iopub.status.busy": "2024-05-14T10:56:22.528090Z",
     "iopub.status.idle": "2024-05-14T10:56:22.539375Z",
     "shell.execute_reply": "2024-05-14T10:56:22.537758Z"
    },
    "papermill": {
     "duration": 0.035865,
     "end_time": "2024-05-14T10:56:22.542269",
     "exception": false,
     "start_time": "2024-05-14T10:56:22.506404",
     "status": "completed"
    },
    "tags": []
   },
   "outputs": [
    {
     "data": {
      "text/plain": [
       "0.6987179487179487"
      ]
     },
     "execution_count": 47,
     "metadata": {},
     "output_type": "execute_result"
    }
   ],
   "source": [
    "accuracy_score(y_test,y_pred6)"
   ]
  },
  {
   "cell_type": "code",
   "execution_count": null,
   "id": "f34b89ad",
   "metadata": {
    "papermill": {
     "duration": 0.020497,
     "end_time": "2024-05-14T10:56:22.584401",
     "exception": false,
     "start_time": "2024-05-14T10:56:22.563904",
     "status": "completed"
    },
    "tags": []
   },
   "outputs": [],
   "source": []
  },
  {
   "cell_type": "code",
   "execution_count": null,
   "id": "e813062d",
   "metadata": {
    "papermill": {
     "duration": 0.020192,
     "end_time": "2024-05-14T10:56:22.629057",
     "exception": false,
     "start_time": "2024-05-14T10:56:22.608865",
     "status": "completed"
    },
    "tags": []
   },
   "outputs": [],
   "source": []
  }
 ],
 "metadata": {
  "kaggle": {
   "accelerator": "none",
   "dataSources": [
    {
     "datasetId": 4527983,
     "sourceId": 7745817,
     "sourceType": "datasetVersion"
    }
   ],
   "dockerImageVersionId": 30698,
   "isGpuEnabled": false,
   "isInternetEnabled": true,
   "language": "python",
   "sourceType": "notebook"
  },
  "kernelspec": {
   "display_name": "Python 3",
   "language": "python",
   "name": "python3"
  },
  "language_info": {
   "codemirror_mode": {
    "name": "ipython",
    "version": 3
   },
   "file_extension": ".py",
   "mimetype": "text/x-python",
   "name": "python",
   "nbconvert_exporter": "python",
   "pygments_lexer": "ipython3",
   "version": "3.10.13"
  },
  "papermill": {
   "default_parameters": {},
   "duration": 49.723585,
   "end_time": "2024-05-14T10:56:23.676087",
   "environment_variables": {},
   "exception": null,
   "input_path": "__notebook__.ipynb",
   "output_path": "__notebook__.ipynb",
   "parameters": {},
   "start_time": "2024-05-14T10:55:33.952502",
   "version": "2.5.0"
  }
 },
 "nbformat": 4,
 "nbformat_minor": 5
}
